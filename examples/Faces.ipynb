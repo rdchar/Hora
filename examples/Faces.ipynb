{
 "cells": [
  {
   "cell_type": "markdown",
   "metadata": {},
   "source": [
    "This example uses the *matrix* method to generate the *Hn*.  This example uses simple emoji style faces."
   ]
  },
  {
   "cell_type": "code",
   "execution_count": 1,
   "metadata": {},
   "outputs": [],
   "source": [
    "from hypernetworks.core.Hypernetwork import Hypernetwork\n",
    "from hypernetworks.core.Hypersimplex import NONE, VERTEX, BETA, ALPHA\n",
    "from hypernetworks.utils.HTCompiler import load_parser, compile_hn\n",
    "from hypernetworks.utils.HTGraph import draw_hn\n",
    "from hypernetworks.utils.HTMatrix import to_matrix, from_matrix, matrix_to_string\n",
    "\n",
    "import numpy as np"
   ]
  },
  {
   "cell_type": "code",
   "execution_count": 2,
   "metadata": {},
   "outputs": [],
   "source": [
    "from IPython.display import Image, display"
   ]
  },
  {
   "cell_type": "code",
   "execution_count": 3,
   "metadata": {},
   "outputs": [
    {
     "data": {
      "image/png": "[encoded data removed]",
      "text/plain": [
       "<IPython.core.display.Image object>"
      ]
     },
     "execution_count": 3,
     "metadata": {
      "image/png": {
       "height": 500,
       "width": 500
      }
     },
     "output_type": "execute_result"
    }
   ],
   "source": [
    "parser = load_parser()\n",
    "\n",
    "face1 = Hypernetwork()\n",
    "\n",
    "compile_hn(face1, parser, \"\"\"\n",
    "    <e, s, r; R_face>\n",
    "    <e, f, r; R_face>\n",
    "    <e, s, sq; R_face>\n",
    "\"\"\")\n",
    "\n",
    "draw_hn(face1, fname=\"/tmp/face1\", view=False)\n",
    "Image(filename='/tmp/face1.png', width=500, height=500)"
   ]
  },
  {
   "cell_type": "code",
   "execution_count": 4,
   "metadata": {},
   "outputs": [
    {
     "name": "stdout",
     "output_type": "stream",
     "text": [
      "@Hs_0@=<e, s, r; R_face>\n",
      "@Hs_1@=<e, f, r; R_face>\n",
      "@Hs_2@=<e, s, sq; R_face>\n",
      "\n"
     ]
    },
    {
     "ename": "AttributeError",
     "evalue": "'Hypernetwork' object has no attribute 'traffic'",
     "output_type": "error",
     "traceback": [
      "\u001b[0;31m---------------------------------------------------------------------------\u001b[0m",
      "\u001b[0;31mAttributeError\u001b[0m                            Traceback (most recent call last)",
      "\u001b[0;32m<ipython-input-4-b2700ccc96b4>\u001b[0m in \u001b[0;36m<module>\u001b[0;34m\u001b[0m\n\u001b[1;32m      1\u001b[0m \u001b[0mprint\u001b[0m\u001b[0;34m(\u001b[0m\u001b[0mface1\u001b[0m\u001b[0;34m)\u001b[0m\u001b[0;34m\u001b[0m\u001b[0;34m\u001b[0m\u001b[0m\n\u001b[0;32m----> 2\u001b[0;31m \u001b[0mprint\u001b[0m\u001b[0;34m(\u001b[0m\u001b[0mface1\u001b[0m\u001b[0;34m.\u001b[0m\u001b[0mtraffic\u001b[0m\u001b[0;34m.\u001b[0m\u001b[0mtraffic\u001b[0m\u001b[0;34m)\u001b[0m\u001b[0;34m\u001b[0m\u001b[0;34m\u001b[0m\u001b[0m\n\u001b[0m\u001b[1;32m      3\u001b[0m \u001b[0;34m\u001b[0m\u001b[0m\n\u001b[1;32m      4\u001b[0m \u001b[0mM\u001b[0m \u001b[0;34m=\u001b[0m \u001b[0mto_matrix\u001b[0m\u001b[0;34m(\u001b[0m\u001b[0mface1\u001b[0m\u001b[0;34m,\u001b[0m \u001b[0mR\u001b[0m\u001b[0;34m=\u001b[0m\u001b[0;34m\"face\"\u001b[0m\u001b[0;34m)\u001b[0m\u001b[0;34m\u001b[0m\u001b[0;34m\u001b[0m\u001b[0m\n\u001b[1;32m      5\u001b[0m \u001b[0mfrom_matrix\u001b[0m\u001b[0;34m(\u001b[0m\u001b[0mface1\u001b[0m\u001b[0;34m,\u001b[0m \u001b[0mM\u001b[0m\u001b[0;34m,\u001b[0m \u001b[0mR\u001b[0m\u001b[0;34m=\u001b[0m\u001b[0;34m\"face\"\u001b[0m\u001b[0;34m)\u001b[0m\u001b[0;34m\u001b[0m\u001b[0;34m\u001b[0m\u001b[0m\n",
      "\u001b[0;31mAttributeError\u001b[0m: 'Hypernetwork' object has no attribute 'traffic'"
     ]
    }
   ],
   "source": [
    "print(face1)\n",
    "print(face1.traffic.traffic)\n",
    "\n",
    "M = to_matrix(face1, R=\"face\")\n",
    "from_matrix(face1, M, R=\"face\")\n",
    "\n",
    "print(face1)\n",
    "print(face1.traffic.traffic)\n",
    "draw_hn(face1, fname=\"/tmp/face2\", view=False)\n",
    "Image(filename='/tmp/face2.png', width=400, height=600)"
   ]
  },
  {
   "cell_type": "code",
   "execution_count": null,
   "metadata": {},
   "outputs": [],
   "source": [
    "face3 = Hypernetwork()\n",
    "\n",
    "compile_hn(face3, parser, \"\"\"\n",
    "    <e, s, r; R_face>\n",
    "    <e, f, r; R_face>\n",
    "    <e, s, sq; R_face>\n",
    "    <e, f, sq; R_face>\n",
    "\"\"\")\n",
    "\n",
    "print(face3)\n",
    "\n",
    "draw_hn(face3, fname=\"/tmp/face3\", view=False)\n",
    "Image(filename='/tmp/face3.png', width=600, height=600)"
   ]
  },
  {
   "cell_type": "code",
   "execution_count": null,
   "metadata": {},
   "outputs": [],
   "source": [
    "M = to_matrix(face3, R=\"face\")\n",
    "\n",
    "from_matrix(face3, M, R=\"face\")\n",
    "\n",
    "print(face3)\n",
    "\n",
    "draw_hn(face3, fname=\"/tmp/face4\", view=False)\n",
    "Image(filename='/tmp/face2.png', width=400, height=600)"
   ]
  },
  {
   "cell_type": "code",
   "execution_count": null,
   "metadata": {},
   "outputs": [],
   "source": [
    "def format_hn(hn):\n",
    "    class Hn:\n",
    "        hn = {}\n",
    "        \n",
    "    def _first_pass():\n",
    "        for name in hn.hypernetwork:\n",
    "            hs = hn.hypernetwork[name]\n",
    "            if hs.hstype in [ALPHA, BETA]:\n",
    "                Hn.hn.update({name: hs})\n",
    "        \n",
    "    def _second_pass():\n",
    "        for name, hs in Hn.hn.items():\n",
    "            for i, vertex in enumerate(hs.simplex):\n",
    "                if vertex[:4] == \"@Hs_\":\n",
    "                    Hn.hn[vertex].simplex[i] = str(hn.hypernetwork[vertex])[len(vertex)+1:]\n",
    "                    print(\"HELLO \", Hn.hn[vertex].simplex)\n",
    "\n",
    "    hn_str = \"\"\n",
    "    _first_pass()\n",
    "    _second_pass()\n",
    "    \n",
    "#     for name in hn.hypernetwork:\n",
    "#         hs = hn.hypernetwork[name]\n",
    "#         hn_str = str(hs)\n",
    "\n",
    "#         if hs.hstype in [ALPHA, BETA]:\n",
    "#             for vertex in hs.simplex:\n",
    "#                 if hn.hypernetwork[vertex].hstype in [ALPHA, BETA]:\n",
    "#                     hs_str = str(hn.hypernetwork[vertex])[len(vertex)+1:]\n",
    "#                     print(hs_str)\n",
    "#                     hn_str.replace(vertex, hs_str)\n",
    "#                     print(hn_str)\n",
    "\n",
    "    return hn_str\n",
    "                    \n",
    "print(format_hn(face1))"
   ]
  },
  {
   "cell_type": "code",
   "execution_count": null,
   "metadata": {},
   "outputs": [],
   "source": []
  }
 ],
 "metadata": {
  "kernelspec": {
   "display_name": "Python 3",
   "language": "python",
   "name": "python3"
  },
  "language_info": {
   "codemirror_mode": {
    "name": "ipython",
    "version": 3
   },
   "file_extension": ".py",
   "mimetype": "text/x-python",
   "name": "python",
   "nbconvert_exporter": "python",
   "pygments_lexer": "ipython3",
   "version": "3.7.8"
  }
 },
 "nbformat": 4,
 "nbformat_minor": 4
}

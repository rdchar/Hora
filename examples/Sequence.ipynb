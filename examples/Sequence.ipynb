{
 "cells": [
  {
   "cell_type": "code",
   "execution_count": 1,
   "id": "67ba5ed1-ec45-44c7-b706-785f5b885e84",
   "metadata": {},
   "outputs": [],
   "source": [
    "from hypernetworks.core.Hypernetwork import Hypernetwork\n",
    "from hypernetworks.utils.HTCompiler import load_parser, compile_hn\n",
    "from IPython.display import Image, display\n",
    "import graphviz\n",
    "import os\n",
    "from plantuml import PlantUML\n",
    "\n",
    "pictures_dir = \"pictures/C4/\"\n",
    "parser = load_parser()"
   ]
  },
  {
   "cell_type": "code",
   "execution_count": 2,
   "id": "55dc918b-c4bd-4ade-823b-05194a463071",
   "metadata": {},
   "outputs": [],
   "source": [
    "lookup={\n",
    "    \"customer\":               {\"C\": \"context\", \"title\": \"Personal Banking Customer\", \"stereotype\": \"Person\", \"description\": \"A customer of the bank, with personal bank accounts.\"},\n",
    "    \"ibs\":                    {\"C\": \"context\", \"title\": \"Internet Banking System\", \"stereotype\": \"Software System\", \"description\": \"Allows customers to view information about their bank accounts, and make payments.\"},\n",
    "    \"mainframe\":              {\"C\": \"context\", \"title\": \"Mainframe Banking System\", \"stereotype\": \"Software System\", \"description\": \"Stores all of the core banking infrormation about customers, accounts, transaction etc.\"},\n",
    "    \"email\":                  {\"C\": \"context\", \"title\": \"E-mail System\", \"stereotype\": \"Software System\", \"description\": \"The internal Microsoft Exchange e-mail system.\"},\n",
    "   \n",
    "    \"view-account-agg\":           {\"label\": \"Views account balances, and makes payments using\"},\n",
    "    \"view-account-mainframe-agg\": {\"label\": \"Gets account information from, and makes payments using\"},\n",
    "    \"send-email-cust-agg\":        {\"label\": \"Sends e-mail to\"},\n",
    "    \"send-ibs-email-agg\":         {\"label\": \"Sends e-mail using\"},\n",
    "    \n",
    "    \"web-app\":                {\"C\": \"container\", \"title\": \"Web Application\", \"stereotype\": \"Container: Java and Sprint MVC\", \"description\": \"Delivers and static content and the Internet banking single page appliation.\"},\n",
    "    \"spa\":                    {\"C\": \"container\", \"title\": \"Single-Page Application\", \"stereotype\": \"Container: JavaScript and Angular\", \"description\": \"Provides all of the Internet banking functionality to customers via their web browser.\"},\n",
    "    \"database\":               {\"C\": \"container\", \"title\": \"Database\", \"stereotype\": \"Container: Oracle Database Schema\", \"description\": \"Stores user registration information, hashed authentication credentials, access logs etc.\"},\n",
    "    \"mob-app\":                {\"C\": \"container\", \"title\": \"Mobile App\", \"stereotype\": \"Container: Xamarin\", \"description\": \"Provides a limited subset of the Internet banking functionality to customers via their mobile device.\"},\n",
    "    \"api\":                    {\"C\": \"container\", \"title\": \"API Application\", \"stereotype\": \"Container: Java and Spring MVC\", \"description\": \"Provides Internet banking functionality via a JSON/HTTPS API.\"},\n",
    "    \n",
    "    \"visit-bank\":             {\"label\": \"Visits bigbank.com/ib using\", \"stereotype\": \"HTTPS\"},\n",
    "    \"view-account-spa\":       {\"label\": \"Views account balances, and makes payments\", \"stereotype\": \"\"},\n",
    "    \"view-account-mob-app\":   {\"label\": \"Views account balances, and makes payments\", \"stereotype\": \"\"},\n",
    "    \"deliver-to-spa\":         {\"label\": \"Delivers to the customer's web browser\", \"stereotype\": \"\"},\n",
    "    \"make-spa-api-call\":      {\"label\": \"Make API call to\", \"stereotype\": \"JSON/HTTPS\"},\n",
    "    \"make-mob-app-api-call\":  {\"label\": \"Make API call to\", \"stereotype\": \"JSON/HTTPS\"},\n",
    "    \"read-db\":                {\"label\": \"Reads from and writes to\", \"stereotype\": \"JDBC\"},\n",
    "    \"send-email\":             {\"label\": \"Sends e-mail using\", \"stereotype\": \"SMTP\"},\n",
    "    \"send-email-cust\":        {\"label\": \"Sends e-mail to\", \"stereotype\": \"\"},\n",
    "    \"call-mainframe\":         {\"label\": \"Makes API calls to\", \"stereotype\": \"XML/HTPTS\"},\n",
    "    \"visit-bank-ret\":         {\"label\": \"Redirect to SPA\", \"stereotype\": \"HTTPS\"}\n",
    "}"
   ]
  },
  {
   "cell_type": "code",
   "execution_count": 3,
   "id": "fb17b3eb-00b1-4190-946f-1fdb10e8a4c6",
   "metadata": {},
   "outputs": [
    {
     "data": {
      "text/plain": [
       "<hypernetworks.core.Hypernetwork.Hypernetwork at 0x113b86550>"
      ]
     },
     "execution_count": 3,
     "metadata": {},
     "output_type": "execute_result"
    }
   ],
   "source": [
    "ibs_container = Hypernetwork()\n",
    "\n",
    "compile_hn(ibs_container, parser, \"\"\"\n",
    "    ibs=<web-app, mob-app, spa, api, database; R_container>[N2]\n",
    "    \n",
    "    send-ibs-email-agg =         {send-email; R_agg_flows}[N2]\n",
    "    view-account-agg =           {visit-bank, view-account-spa, view-account-mob-app; R_agg_flows}[N2]\n",
    "    view-account-mainframe-agg = {call-mainframe; R_agg_flows}[N2]\n",
    "    send-email-cust-agg =        {send-email-cust; R_agg_flows}[N2]\n",
    "    \n",
    "    visit-bank =             <customer, web-app; R_flow>[N1]\n",
    "    view-account-spa =       <customer, spa; R_flow>[N1]\n",
    "    view-account-mob-app =   <customer, mob-app; R_flow>[N1]\n",
    "    deliver-to-spa =         <web-app, spa; R_flow>[N1]\n",
    "    make-spa-api-call =      <spa, api; R_flow>[N1]\n",
    "    make-mob-app-api-call =  <mob-app, api; R_flow>[N1]\n",
    "    read-db =                <api, database; R_flow>[N1]\n",
    "    send-email =             <api, email; R_flow>[N1]\n",
    "    send-email-cust =        <email, customer; R_flow>[N2]\n",
    "    call-mainframe =         <api, mainframe; R_flow>[N1]\n",
    "\"\"\")\n",
    "\n",
    "ibs_api_component = Hypernetwork()\n",
    "\n",
    "compile_hn(ibs_api_component, parser, \"\"\"\n",
    "    flow=<visit-bank, visit-bank-ret, view-account-spa, make-spa-api-call, read-db, read-db-ret, make-spa-api-call-ret, view-account-spa-ret; R_sequence>\n",
    "    visit-bank-ret=<web-app, customer; R_return>\n",
    "    view-account-spa-ret=<spa, customer; R_return>\n",
    "    make-spa-api-call-ret=<api, spa; R_return>\n",
    "    read-db-ret=<database, api; R_return>\n",
    "\"\"\")"
   ]
  },
  {
   "cell_type": "code",
   "execution_count": 4,
   "id": "34c828e3-9c25-4f24-b4f8-832be5b3d871",
   "metadata": {},
   "outputs": [],
   "source": [
    "def gen_sequence(hn, seq, lookup):\n",
    "    res_start = \"@startuml\"\n",
    "    res_end = \"@enduml\"\n",
    "    \n",
    "    res = res_start + \"\\n\"\n",
    "    \n",
    "    sequence = hn.hypernetwork[seq]\n",
    "\n",
    "    for v in sequence.simplex:\n",
    "        hs = hn.hypernetwork[v]\n",
    "        frm = hs.simplex[0].replace(\" \", \"_\").replace(\"-\", \"_\")\n",
    "        to = hs.simplex[1].replace(\" \", \"_\").replace(\"-\", \"_\")\n",
    "        lbl = hs.vertex\n",
    "        arrow = \"\"\n",
    "\n",
    "        if hs.R.name == \"flow\":\n",
    "            arrow = \" -> \"\n",
    "            \n",
    "        if hs.R.name == \"return\":\n",
    "            arrow = \" --> \"\n",
    "            \n",
    "        res += frm + arrow + to + \": \" + lbl + \"\\n\"\n",
    "\n",
    "    res += res_end\n",
    "    \n",
    "    return res"
   ]
  },
  {
   "cell_type": "code",
   "execution_count": 5,
   "id": "55c33788-d41f-49e7-9f7e-8827327b1dc7",
   "metadata": {},
   "outputs": [
    {
     "name": "stdout",
     "output_type": "stream",
     "text": [
      "@startuml\n",
      "customer -> web_app: visit-bank\n",
      "web_app --> customer: visit-bank-ret\n",
      "customer -> spa: view-account-spa\n",
      "spa -> api: make-spa-api-call\n",
      "api -> database: read-db\n",
      "database --> api: read-db-ret\n",
      "api --> spa: make-spa-api-call-ret\n",
      "spa --> customer: view-account-spa-ret\n",
      "@enduml\n"
     ]
    },
    {
     "data": {
      "image/png": "[encoded data removed]",
      "text/plain": [
       "<IPython.core.display.Image object>"
      ]
     },
     "execution_count": 5,
     "metadata": {},
     "output_type": "execute_result"
    }
   ],
   "source": [
    "ibs_seq = Hypernetwork()\n",
    "\n",
    "ibs_seq.merge(ibs_container)\n",
    "ibs_seq.merge(ibs_api_component)\n",
    "\n",
    "with open(pictures_dir+\"diagram.puml\", \"w\") as file:\n",
    "    file.write(gen_sequence(ibs_seq, \"flow\", lookup))\n",
    "\n",
    "plantuml = PlantUML(url=\"http://www.plantuml.com/plantuml/img/\")\n",
    "plantuml.processes_file(pictures_dir+\"diagram.puml\")\n",
    "\n",
    "print(gen_sequence(ibs_seq, \"flow\", lookup))\n",
    "Image(filename=pictures_dir+\"diagram.png\")"
   ]
  }
 ],
 "metadata": {
  "kernelspec": {
   "display_name": "Python 3 (ipykernel)",
   "language": "python",
   "name": "python3"
  },
  "language_info": {
   "codemirror_mode": {
    "name": "ipython",
    "version": 3
   },
   "file_extension": ".py",
   "mimetype": "text/x-python",
   "name": "python",
   "nbconvert_exporter": "python",
   "pygments_lexer": "ipython3",
   "version": "3.11.7"
  }
 },
 "nbformat": 4,
 "nbformat_minor": 5
}

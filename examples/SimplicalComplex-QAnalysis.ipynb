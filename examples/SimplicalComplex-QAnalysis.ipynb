{
 "cells": [
  {
   "cell_type": "code",
   "execution_count": 1,
   "metadata": {},
   "outputs": [],
   "source": [
    "import numpy as np\n",
    "\n",
    "from hypernetworks.core.Hypernetwork import Hypernetwork\n",
    "from hypernetworks.core.Hypersimplex import VERTEX, ALPHA, BETA\n",
    "from hypernetworks.utils.HTCompiler import load_parser, compile_hn\n",
    "from hypernetworks.utils.HTGraph import draw_hn\n",
    "\n",
    "from IPython.display import Image\n",
    "\n",
    "from hypernetworks.utils.HTSimplicalComplex import gen_simplical_complex, simplical_complex_to_graph, qanalysis_of_simplical_complex\n",
    "\n",
    "parser = load_parser()"
   ]
  },
  {
   "cell_type": "code",
   "execution_count": 2,
   "metadata": {},
   "outputs": [],
   "source": [
    "def qa(sc, parents, children):\n",
    "    Q = qanalysis_of_simplical_complex(sc, children)\n",
    "\n",
    "    K = np.array(Q.K)\n",
    "    print(\"K: \")\n",
    "    print(K)\n",
    "\n",
    "    Qa = Q.qcomponents\n",
    "    ecc = Q.ecc\n",
    "    print()\n",
    "    print(\"Names:    \" + str(np.array(children)))\n",
    "    print(\"Q top:    \" + str(Q.top_q))\n",
    "    print(\"Q bottom: \" + str(Q.bottom_q))\n",
    "\n",
    "    print(\"Eccentricity:\")\n",
    "    for n, e in zip(children, ecc):\n",
    "        print(\"\\t\" + n + \" = \" + format(e, \"0.4f\"))\n",
    "\n",
    "    print()\n",
    "    print(\"Q Components:\")\n",
    "    for i in reversed(range(len(Qa))):\n",
    "        print(\"\\t\" + str(i) + \":\")\n",
    "\n",
    "        for x in Qa[i]:\n",
    "            print(\"\\t\\t\" + str(x))"
   ]
  },
  {
   "cell_type": "code",
   "execution_count": 13,
   "metadata": {},
   "outputs": [
    {
     "name": "stdout",
     "output_type": "stream",
     "text": [
      "ERROR: lark exception Unexpected Token\n"
     ]
    },
    {
     "name": "stderr",
     "output_type": "stream",
     "text": [
      "Traceback (most recent call last):\n",
      "  File \"/Library/Frameworks/Python.framework/Versions/3.7/lib/python3.7/site-packages/lark/lexer.py\", line 478, in lex\n",
      "    yield lexer.next_token(lexer_state, parser_state)\n",
      "  File \"/Library/Frameworks/Python.framework/Versions/3.7/lib/python3.7/site-packages/lark/lexer.py\", line 400, in next_token\n",
      "    state=parser_state, terminals_by_name=self.terminals_by_name)\n",
      "lark.exceptions.UnexpectedCharacters: No terminal matches 'f' in the current parser context, at line 3 col 5\n",
      "\n",
      "    f2=<e, f, r; R_face>^N+1\n",
      "    ^\n",
      "Expected one of: \n",
      "\t* \"->\"\n",
      "\t* EQUAL\n",
      "\n",
      "Previous tokens: Token('NAME', '^N+1')\n",
      "\n",
      "\n",
      "During handling of the above exception, another exception occurred:\n",
      "\n",
      "Traceback (most recent call last):\n",
      "  File \"/Library/Frameworks/Python.framework/Versions/3.7/lib/python3.7/site-packages/hypernetworks/utils/HTCompiler.py\", line 239, in compile_hn\n",
      "    tree = parser.parse(hs_string)\n",
      "  File \"/Library/Frameworks/Python.framework/Versions/3.7/lib/python3.7/site-packages/lark/lark.py\", line 581, in parse\n",
      "    return self.parser.parse(text, start=start, on_error=on_error)\n",
      "  File \"/Library/Frameworks/Python.framework/Versions/3.7/lib/python3.7/site-packages/lark/parser_frontends.py\", line 106, in parse\n",
      "    return self.parser.parse(stream, chosen_start, **kw)\n",
      "  File \"/Library/Frameworks/Python.framework/Versions/3.7/lib/python3.7/site-packages/lark/parsers/lalr_parser.py\", line 41, in parse\n",
      "    return self.parser.parse(lexer, start)\n",
      "  File \"/Library/Frameworks/Python.framework/Versions/3.7/lib/python3.7/site-packages/lark/parsers/lalr_parser.py\", line 171, in parse\n",
      "    return self.parse_from_state(parser_state)\n",
      "  File \"/Library/Frameworks/Python.framework/Versions/3.7/lib/python3.7/site-packages/lark/parsers/lalr_parser.py\", line 188, in parse_from_state\n",
      "    raise e\n",
      "  File \"/Library/Frameworks/Python.framework/Versions/3.7/lib/python3.7/site-packages/lark/parsers/lalr_parser.py\", line 178, in parse_from_state\n",
      "    for token in state.lexer.lex(state):\n",
      "  File \"/Library/Frameworks/Python.framework/Versions/3.7/lib/python3.7/site-packages/lark/lexer.py\", line 487, in lex\n",
      "    raise UnexpectedToken(token, e.allowed, state=parser_state, token_history=[last_token], terminals_by_name=self.root_lexer.terminals_by_name)\n",
      "lark.exceptions.UnexpectedToken: Unexpected token Token('NAME', 'f2') at line 3, column 5.\n",
      "Expected one of: \n",
      "\t* \"->\"\n",
      "\t* EQUAL\n",
      "Previous tokens: [Token('NAME', '^N+1')]\n",
      "\n"
     ]
    },
    {
     "data": {
      "text/plain": [
       "<hypernetworks.core.Hypernetwork.Hypernetwork at 0x7f9621286cd0>"
      ]
     },
     "execution_count": 13,
     "metadata": {},
     "output_type": "execute_result"
    }
   ],
   "source": [
    "hn = Hypernetwork()\n",
    "\n",
    "compile_hn(hn, parser, \"\"\"\n",
    "    f1=<e, s, r; R_face>^N+1\n",
    "    f2=<e, f, r; R_face>^N+1\n",
    "    f3=<e, s, sq; R_face>^N+1\n",
    "\"\"\")"
   ]
  },
  {
   "cell_type": "code",
   "execution_count": 12,
   "metadata": {},
   "outputs": [
    {
     "name": "stdout",
     "output_type": "stream",
     "text": [
      "Parents []\n",
      "Childrens []\n"
     ]
    }
   ],
   "source": [
    "parents, children, sc = gen_simplical_complex(hn, level=\"N\")\n",
    "print(\"Parents\", parents)\n",
    "print(\"Childrens\", children)"
   ]
  },
  {
   "cell_type": "code",
   "execution_count": 5,
   "metadata": {},
   "outputs": [
    {
     "data": {
      "image/png": "[encoded data removed]",
      "text/plain": [
       "<IPython.core.display.Image object>"
      ]
     },
     "execution_count": 5,
     "metadata": {
      "image/png": {
       "height": 200,
       "width": 200
      }
     },
     "output_type": "execute_result"
    }
   ],
   "source": [
    "simplical_complex_to_graph(sc, fname='/tmp/sc', view=False)\n",
    "Image(filename='/tmp/sc.png', width=200, height=200)"
   ]
  },
  {
   "cell_type": "code",
   "execution_count": 6,
   "metadata": {},
   "outputs": [
    {
     "name": "stdout",
     "output_type": "stream",
     "text": [
      "K: \n",
      "[]\n",
      "\n",
      "Names:    []\n",
      "Q top:    []\n",
      "Q bottom: []\n",
      "Eccentricity:\n",
      "\n",
      "Q Components:\n"
     ]
    }
   ],
   "source": [
    "qa(sc, parents, children)"
   ]
  },
  {
   "cell_type": "markdown",
   "metadata": {},
   "source": [
    "Cat"
   ]
  },
  {
   "cell_type": "code",
   "execution_count": 7,
   "metadata": {},
   "outputs": [
    {
     "name": "stdout",
     "output_type": "stream",
     "text": [
      "ERROR: lark exception Unexpected Token\n"
     ]
    },
    {
     "name": "stderr",
     "output_type": "stream",
     "text": [
      "Traceback (most recent call last):\n",
      "  File \"/Library/Frameworks/Python.framework/Versions/3.7/lib/python3.7/site-packages/lark/lexer.py\", line 478, in lex\n",
      "    yield lexer.next_token(lexer_state, parser_state)\n",
      "  File \"/Library/Frameworks/Python.framework/Versions/3.7/lib/python3.7/site-packages/lark/lexer.py\", line 400, in next_token\n",
      "    state=parser_state, terminals_by_name=self.terminals_by_name)\n",
      "lark.exceptions.UnexpectedCharacters: No terminal matches 'F' in the current parser context, at line 4 col 5\n",
      "\n",
      "    FurColour={~black, ~beige, ~white, ~brow\n",
      "    ^\n",
      "Expected one of: \n",
      "\t* \"->\"\n",
      "\t* EQUAL\n",
      "\n",
      "Previous tokens: Token('NAME', '^N+5')\n",
      "\n",
      "\n",
      "During handling of the above exception, another exception occurred:\n",
      "\n",
      "Traceback (most recent call last):\n",
      "  File \"/Library/Frameworks/Python.framework/Versions/3.7/lib/python3.7/site-packages/hypernetworks/utils/HTCompiler.py\", line 239, in compile_hn\n",
      "    tree = parser.parse(hs_string)\n",
      "  File \"/Library/Frameworks/Python.framework/Versions/3.7/lib/python3.7/site-packages/lark/lark.py\", line 581, in parse\n",
      "    return self.parser.parse(text, start=start, on_error=on_error)\n",
      "  File \"/Library/Frameworks/Python.framework/Versions/3.7/lib/python3.7/site-packages/lark/parser_frontends.py\", line 106, in parse\n",
      "    return self.parser.parse(stream, chosen_start, **kw)\n",
      "  File \"/Library/Frameworks/Python.framework/Versions/3.7/lib/python3.7/site-packages/lark/parsers/lalr_parser.py\", line 41, in parse\n",
      "    return self.parser.parse(lexer, start)\n",
      "  File \"/Library/Frameworks/Python.framework/Versions/3.7/lib/python3.7/site-packages/lark/parsers/lalr_parser.py\", line 171, in parse\n",
      "    return self.parse_from_state(parser_state)\n",
      "  File \"/Library/Frameworks/Python.framework/Versions/3.7/lib/python3.7/site-packages/lark/parsers/lalr_parser.py\", line 188, in parse_from_state\n",
      "    raise e\n",
      "  File \"/Library/Frameworks/Python.framework/Versions/3.7/lib/python3.7/site-packages/lark/parsers/lalr_parser.py\", line 178, in parse_from_state\n",
      "    for token in state.lexer.lex(state):\n",
      "  File \"/Library/Frameworks/Python.framework/Versions/3.7/lib/python3.7/site-packages/lark/lexer.py\", line 487, in lex\n",
      "    raise UnexpectedToken(token, e.allowed, state=parser_state, token_history=[last_token], terminals_by_name=self.root_lexer.terminals_by_name)\n",
      "lark.exceptions.UnexpectedToken: Unexpected token Token('NAME', 'FurColour') at line 4, column 5.\n",
      "Expected one of: \n",
      "\t* \"->\"\n",
      "\t* EQUAL\n",
      "Previous tokens: [Token('NAME', '^N+5')]\n",
      "\n"
     ]
    },
    {
     "data": {
      "image/png": "[encoded data removed]",
      "text/plain": [
       "<IPython.core.display.Image object>"
      ]
     },
     "execution_count": 7,
     "metadata": {
      "image/png": {
       "height": 600,
       "width": 1000
      }
     },
     "output_type": "execute_result"
    }
   ],
   "source": [
    "hn_cat = Hypernetwork()\n",
    "\n",
    "compile_hn(hn_cat, parser, \"\"\"\n",
    "    Cat=<~Breed, Sex, FurColour, Body, Legs, Tail={~tail, ~notail}, CatHead>^N+5\n",
    "\n",
    "    FurColour={~black, ~beige, ~white, ~brown}^N+2\n",
    "    EyeColour={~brown, ~blue, ~green}^N+2\n",
    "    Body={~fat, ~skinny, ~average}^N+4\n",
    "    CatHead=<Ears, Eyes, ~mouth, ~whiskers>^N+4\n",
    "    DogHead=!<Ears, Eyes, ~mouth>^N+4\n",
    "    Ears=<leftEar=<~left, FurColour>, rightEar=<~right, FurColour>>^N+3\n",
    "    Eyes=<leftEye=<~left, EyeColour>, rightEye=<~right, EyeColour>>^N+3\n",
    "    Legs=<~frontLeft, ~frontRight, ~rearLeft, ~rearRight>^N+4\n",
    "    tail=<~length>\n",
    "    Sex={~male, ~female}^N+3\n",
    "    Dog=<~Breed, Sex, FurColour, Body, Legs, ~tail, DogHead>^N+5\n",
    "\"\"\")\n",
    "\n",
    "draw_hn(hn_cat, fname=\"/tmp/cat-hn\", view=False)\n",
    "Image(filename='/tmp/cat-hn.png', width=1000, height=600)"
   ]
  },
  {
   "cell_type": "code",
   "execution_count": 8,
   "metadata": {},
   "outputs": [],
   "source": [
    "parents_cat, children_cat, sc_cat = gen_simplical_complex(hn_cat)"
   ]
  },
  {
   "cell_type": "code",
   "execution_count": 9,
   "metadata": {},
   "outputs": [
    {
     "data": {
      "image/png": "[encoded data removed]",
      "text/plain": [
       "<IPython.core.display.Image object>"
      ]
     },
     "execution_count": 9,
     "metadata": {
      "image/png": {
       "height": 500,
       "width": 500
      }
     },
     "output_type": "execute_result"
    }
   ],
   "source": [
    "simplical_complex_to_graph(sc_cat, fname='/tmp/sc-cat', view=False)\n",
    "Image(filename='/tmp/sc-cat.png', width=500, height=500)"
   ]
  },
  {
   "cell_type": "code",
   "execution_count": 10,
   "metadata": {},
   "outputs": [
    {
     "name": "stdout",
     "output_type": "stream",
     "text": [
      "K: \n",
      "[]\n",
      "\n",
      "Names:    []\n",
      "Q top:    []\n",
      "Q bottom: []\n",
      "Eccentricity:\n",
      "\n",
      "Q Components:\n"
     ]
    }
   ],
   "source": [
    "qa(sc_cat, parents_cat, children_cat)"
   ]
  },
  {
   "cell_type": "code",
   "execution_count": null,
   "metadata": {},
   "outputs": [],
   "source": []
  }
 ],
 "metadata": {
  "kernelspec": {
   "display_name": "Python 3",
   "language": "python",
   "name": "python3"
  },
  "language_info": {
   "codemirror_mode": {
    "name": "ipython",
    "version": 3
   },
   "file_extension": ".py",
   "mimetype": "text/x-python",
   "name": "python",
   "nbconvert_exporter": "python",
   "pygments_lexer": "ipython3",
   "version": "3.7.8"
  }
 },
 "nbformat": 4,
 "nbformat_minor": 4
}

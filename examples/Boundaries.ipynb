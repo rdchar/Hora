{
 "cells": [
  {
   "cell_type": "code",
   "execution_count": 1,
   "id": "4628b210-7896-41cf-8364-fe49b07a01c0",
   "metadata": {},
   "outputs": [],
   "source": [
    "from hypernetworks.core.Hypernetwork import Hypernetwork\n",
    "from hypernetworks.core.Hypersimplex import VERTEX, ALPHA, BETA, hstype_to_str\n",
    "from hypernetworks.utils.HTCompiler import load_parser, compile_hn\n",
    "from hypernetworks.utils.HTTools import remove_special\n",
    "from hypernetworks.utils.HTGraph import draw_hn\n",
    "from hypernetworks.core.HTErrors import HnVertexNoFound, HnUnknownHsType, HnInsertError, HnRMismatch, \\\n",
    "    HnTypeOrSimplexSizeMismatch, HnHsNotExistInHn\n",
    "\n",
    "from IPython.display import Image\n",
    "\n",
    "parser = load_parser()\n",
    "\n",
    "pictures_dir=\"pictures/\""
   ]
  },
  {
   "cell_type": "code",
   "execution_count": 2,
   "id": "efa84ae6-c640-4241-be19-354faca848a4",
   "metadata": {},
   "outputs": [],
   "source": [
    "def print_boundaries(hn):\n",
    "    for v in hn.hypernetwork:\n",
    "        print(v, hn.hypernetwork[v].B)"
   ]
  },
  {
   "cell_type": "code",
   "execution_count": 3,
   "id": "b68410bc-f403-4775-8c61-443e758a4ac7",
   "metadata": {},
   "outputs": [
    {
     "name": "stdout",
     "output_type": "stream",
     "text": [
      "HELLO 1 a\n",
      "a {'A'}\n",
      "a1 {'A'}\n",
      "a2 {'A'}\n",
      "a3 {'A'}\n"
     ]
    }
   ],
   "source": [
    "hn= Hypernetwork()\n",
    "\n",
    "compile_hn(hn, parser, \"\"\"\n",
    "    a=<a1, a2, a3; R; B(A)>\n",
    "\"\"\", boundary_percolation=True)\n",
    "\n",
    "print_boundaries(hn)\n",
    "# draw_hn(hn, fname=pictures_dir+\"hn\", view=False, show_hstype=False)\n",
    "# Image(filename=pictures_dir+\"hn.png\", width=300, height=1200)"
   ]
  },
  {
   "cell_type": "code",
   "execution_count": 4,
   "id": "d5c4d882-bcf2-40c9-99e7-994aa235a21d",
   "metadata": {},
   "outputs": [
    {
     "name": "stdout",
     "output_type": "stream",
     "text": [
      "HELLO 1 a\n",
      "a {'A'}\n",
      "a1 set()\n",
      "a2 set()\n",
      "a3 set()\n"
     ]
    }
   ],
   "source": [
    "hn= Hypernetwork()\n",
    "\n",
    "compile_hn(hn, parser, \"\"\"\n",
    "    a=<a1, a2, a3; R; B(A)>\n",
    "\"\"\", boundary_percolation=False)\n",
    "\n",
    "print_boundaries(hn)\n",
    "\n",
    "# draw_hn(hn, fname=pictures_dir+\"hn\", view=False, show_hstype=False)\n",
    "# Image(filename=pictures_dir+\"hn.png\", width=300, height=1200)"
   ]
  },
  {
   "cell_type": "code",
   "execution_count": 5,
   "id": "6ed7b68e-98ba-4653-964f-873210df67cb",
   "metadata": {},
   "outputs": [
    {
     "name": "stdout",
     "output_type": "stream",
     "text": [
      "HELLO 1 a\n",
      "HELLO 1 a1\n",
      "a {'A'}\n",
      "a1 set()\n",
      "a2 set()\n",
      "a3 set()\n",
      "b1 set()\n",
      "b2 set()\n",
      "b3 set()\n"
     ]
    }
   ],
   "source": [
    "hn= Hypernetwork()\n",
    "\n",
    "compile_hn(hn, parser, \"\"\"\n",
    "    a=<a1, a2, a3; R; B(A)>\n",
    "    a1=<b1, b2, b3; R>\n",
    "\"\"\", boundary_percolation=False)\n",
    "\n",
    "print_boundaries(hn)\n",
    "\n",
    "# draw_hn(hn, fname=pictures_dir+\"hn\", view=False, show_hstype=False)\n",
    "# Image(filename=pictures_dir+\"hn.png\", width=300, height=1200)"
   ]
  },
  {
   "cell_type": "code",
   "execution_count": 6,
   "id": "4674d9df-bd39-4f87-aacd-72b400d6f897",
   "metadata": {},
   "outputs": [
    {
     "name": "stdout",
     "output_type": "stream",
     "text": [
      "HELLO 1 a\n",
      "HELLO 1 a1\n",
      "a {'A'}\n",
      "a1 {'A'}\n",
      "a2 {'A'}\n",
      "a3 {'A'}\n",
      "b1 {'A'}\n",
      "b2 {'A'}\n",
      "b3 {'A'}\n"
     ]
    }
   ],
   "source": [
    "hn= Hypernetwork()\n",
    "\n",
    "compile_hn(hn, parser, \"\"\"\n",
    "    a=<a1, a2, a3; R; B(A)>\n",
    "    a1=<b1, b2, b3; R>\n",
    "\"\"\", boundary_percolation=True)\n",
    "\n",
    "print_boundaries(hn)\n",
    "\n",
    "# draw_hn(hn, fname=pictures_dir+\"hn\", view=False, show_hstype=False)\n",
    "# Image(filename=pictures_dir+\"hn.png\", width=300, height=1200)"
   ]
  },
  {
   "cell_type": "code",
   "execution_count": 7,
   "id": "c007f33b-8c55-469f-8c83-16b9fcf18c60",
   "metadata": {},
   "outputs": [
    {
     "name": "stdout",
     "output_type": "stream",
     "text": [
      "HELLO 1 a\n",
      "HELLO 1 a1\n",
      "HELLO 1 a1\n",
      "HELLO 1 b1\n",
      "HELLO 1 b2\n",
      "HELLO 1 b3\n",
      "a {'A'}\n",
      "a1 {'B'}\n",
      "a2 set()\n",
      "a3 set()\n",
      "b1 set()\n",
      "b2 set()\n",
      "b3 set()\n"
     ]
    }
   ],
   "source": [
    "hn1 = Hypernetwork()\n",
    "hn2 = Hypernetwork()\n",
    "\n",
    "compile_hn(hn1, parser, \"\"\"\n",
    "    a=<a1, a2, a3; R; B(A)>\n",
    "\"\"\", boundary_percolation=False)\n",
    "\n",
    "compile_hn(hn2, parser, \"\"\"\n",
    "    a1=<b1, b2, b3; R; B(B)>\n",
    "\"\"\", boundary_percolation=False)\n",
    "\n",
    "hn1.merge(hn2, boundary_percolation=False)\n",
    "\n",
    "print_boundaries(hn1)"
   ]
  },
  {
   "cell_type": "code",
   "execution_count": 8,
   "id": "12e0dbdf-37fc-484b-b1e6-200c10129c4c",
   "metadata": {},
   "outputs": [
    {
     "name": "stdout",
     "output_type": "stream",
     "text": [
      "HELLO 1 a\n",
      "HELLO 1 a1\n",
      "HELLO 1 a1\n",
      "HELLO 1 b1\n",
      "HELLO 1 b2\n",
      "HELLO 1 b3\n",
      "a {'A'}\n",
      "a1 {'B', 'A'}\n",
      "a2 {'A'}\n",
      "a3 {'A'}\n",
      "b1 set()\n",
      "b2 set()\n",
      "b3 set()\n"
     ]
    }
   ],
   "source": [
    "hn1 = Hypernetwork()\n",
    "hn2 = Hypernetwork()\n",
    "\n",
    "compile_hn(hn1, parser, \"\"\"\n",
    "    a=<a1, a2, a3; R; B(A)>\n",
    "\"\"\", boundary_percolation=True)\n",
    "\n",
    "compile_hn(hn2, parser, \"\"\"\n",
    "    a1=<b1, b2, b3; R; B(B)>\n",
    "\"\"\", boundary_percolation=False)\n",
    "\n",
    "hn1.merge(hn2, boundary_percolation=False)\n",
    "\n",
    "print_boundaries(hn1)"
   ]
  },
  {
   "cell_type": "code",
   "execution_count": 9,
   "id": "968a2e1d-8f4a-4a75-9fe2-0bb431e6573c",
   "metadata": {},
   "outputs": [
    {
     "name": "stdout",
     "output_type": "stream",
     "text": [
      "HELLO 1 a\n",
      "HELLO 1 a1\n",
      "HELLO 1 a1\n",
      "HELLO 1 b1\n",
      "HELLO 1 b2\n",
      "HELLO 1 b3\n",
      "a {'A'}\n",
      "a1 {'B'}\n",
      "a2 set()\n",
      "a3 set()\n",
      "b1 {'B'}\n",
      "b2 {'B'}\n",
      "b3 {'B'}\n"
     ]
    }
   ],
   "source": [
    "hn1 = Hypernetwork()\n",
    "hn2 = Hypernetwork()\n",
    "\n",
    "compile_hn(hn1, parser, \"\"\"\n",
    "    a=<a1, a2, a3; R; B(A)>\n",
    "\"\"\", boundary_percolation=False)\n",
    "\n",
    "compile_hn(hn2, parser, \"\"\"\n",
    "    a1=<b1, b2, b3; R; B(B)>\n",
    "\"\"\", boundary_percolation=True)\n",
    "\n",
    "hn1.merge(hn2, boundary_percolation=False)\n",
    "\n",
    "print_boundaries(hn1)"
   ]
  },
  {
   "cell_type": "code",
   "execution_count": 10,
   "id": "0e6cebdf-c9f5-4810-96af-3bb4048e50af",
   "metadata": {},
   "outputs": [
    {
     "name": "stdout",
     "output_type": "stream",
     "text": [
      "HELLO 1 a\n",
      "HELLO 1 a1\n",
      "HELLO 1 a1\n",
      "HELLO 1 b1\n",
      "HELLO 1 b2\n",
      "HELLO 1 b3\n",
      "a {'A'}\n",
      "a1 {'B'}\n",
      "a2 set()\n",
      "a3 set()\n",
      "b1 {'B'}\n",
      "b2 {'B'}\n",
      "b3 {'B'}\n"
     ]
    }
   ],
   "source": [
    "hn1 = Hypernetwork()\n",
    "hn2 = Hypernetwork()\n",
    "\n",
    "compile_hn(hn1, parser, \"\"\"\n",
    "    a=<a1, a2, a3; R; B(A)>\n",
    "\"\"\", boundary_percolation=False)\n",
    "\n",
    "compile_hn(hn2, parser, \"\"\"\n",
    "    a1=<b1, b2, b3; R; B(B)>\n",
    "\"\"\", boundary_percolation=False)\n",
    "\n",
    "hn1.merge(hn2, boundary_percolation=True)\n",
    "\n",
    "print_boundaries(hn1)"
   ]
  },
  {
   "cell_type": "code",
   "execution_count": 11,
   "id": "fd2a1e49-8310-4da4-8229-6f830123445a",
   "metadata": {},
   "outputs": [
    {
     "name": "stdout",
     "output_type": "stream",
     "text": [
      "HELLO 1 a\n",
      "a {'C', 'A'}\n",
      "a1 set()\n",
      "a2 {'C'}\n",
      "a3 {'C'}\n"
     ]
    }
   ],
   "source": [
    "hn1 = Hypernetwork()\n",
    "\n",
    "compile_hn(hn1, parser, \"\"\"\n",
    "    a=<a1, a2, a3; R; B(A)>\n",
    "\"\"\", boundary_percolation=False)\n",
    "\n",
    "hn1.add_to_boundary(\"C\", boundary_percolation=False, vertices=[\"a\", \"a2\", \"a3\"])\n",
    "\n",
    "print_boundaries(hn1)"
   ]
  },
  {
   "cell_type": "code",
   "execution_count": null,
   "id": "c02c777c-ecc6-4e3c-86e1-c65f8db30108",
   "metadata": {},
   "outputs": [],
   "source": []
  }
 ],
 "metadata": {
  "kernelspec": {
   "display_name": "Python 3 (ipykernel)",
   "language": "python",
   "name": "python3"
  },
  "language_info": {
   "codemirror_mode": {
    "name": "ipython",
    "version": 3
   },
   "file_extension": ".py",
   "mimetype": "text/x-python",
   "name": "python",
   "nbconvert_exporter": "python",
   "pygments_lexer": "ipython3",
   "version": "3.11.7"
  }
 },
 "nbformat": 4,
 "nbformat_minor": 5
}

{
 "cells": [
  {
   "cell_type": "code",
   "execution_count": 1,
   "metadata": {},
   "outputs": [],
   "source": [
    "from hypernetworks.core.Hypernetwork import Hypernetwork\n",
    "from hypernetworks.core.Hypersimplex import NONE, VERTEX, BETA, ALPHA\n",
    "from hypernetworks.utils.HTCompiler import load_parser, compile_hn\n",
    "from hypernetworks.utils.HTGraph import draw_hn\n",
    "\n",
    "from IPython.display import Image, display\n",
    "\n",
    "parser = load_parser()"
   ]
  },
  {
   "cell_type": "code",
   "execution_count": 4,
   "metadata": {},
   "outputs": [
    {
     "data": {
      "image/png": "[encoded data removed]",
      "text/plain": [
       "<IPython.core.display.Image object>"
      ]
     },
     "execution_count": 4,
     "metadata": {
      "image/png": {
       "height": 1200,
       "width": 200
      }
     },
     "output_type": "execute_result"
    }
   ],
   "source": [
    "faces_hn = Hypernetwork()\n",
    "\n",
    "compile_hn(faces_hn, parser, \"\"\"\n",
    "    F=<e, m={s, f}, r; phi_transform>\n",
    "\"\"\")\n",
    "\n",
    "draw_hn(faces_hn, fname=\"/tmp/faces2\", view=False)\n",
    "Image(filename='/tmp/faces2.png', width=200, height=1200)"
   ]
  },
  {
   "cell_type": "code",
   "execution_count": 5,
   "metadata": {},
   "outputs": [
    {
     "name": "stdout",
     "output_type": "stream",
     "text": [
      "F=<e, f, r; t_1>\n",
      "\n"
     ]
    }
   ],
   "source": [
    "def transformer(hn, t, vertex, betas):\n",
    "    res_hn = Hypernetwork()\n",
    "    hs = hn.hypernetwork[vertex]\n",
    "    simplex = []\n",
    "    \n",
    "    for vert in hs.simplex:\n",
    "        if hn.hypernetwork[vert].hstype == BETA:\n",
    "            for b in betas:\n",
    "                if b in hn.hypernetwork[vert].simplex:\n",
    "                    simplex.append(b)\n",
    "        \n",
    "        else:\n",
    "            simplex.append(vert)\n",
    "    \n",
    "    res_hn.insert(vertex, hstype=ALPHA, simplex=simplex, t=t)\n",
    "    \n",
    "    return res_hn\n",
    "\n",
    "print(transformer(faces_hn, 1, \"F\", [\"f\"]))"
   ]
  },
  {
   "cell_type": "code",
   "execution_count": 6,
   "metadata": {},
   "outputs": [
    {
     "name": "stdout",
     "output_type": "stream",
     "text": [
      "control=<robot, turn-right; t_1>\n",
      "\n",
      "pointing=<deg-from-north, turn-right; t_1>\n",
      "\n"
     ]
    }
   ],
   "source": [
    "hn = Hypernetwork()\n",
    "\n",
    "compile_hn(hn, parser, \"\"\"\n",
    "    robot=<actuator, sensor, position; R_robot>\n",
    "        actuator=<lm, rm>\n",
    "            lm+ve=<lm; psi_motor>\n",
    "            lm-ve=<lm; psi_motor>\n",
    "            rm+ve=<rm; psi_motor>\n",
    "            rm-ve=<rm; psi_motor>\n",
    "        sensor=<gy, us, btn>\n",
    "            gy+ve=<gy; psi_sensor>\n",
    "            gy-ve=<gy; psi_sendor>\n",
    "            us+ve=<us; psi_sensor>\n",
    "            us-ve=<us; psi_sendor>\n",
    "        position=<location, pointing; R>\n",
    "#            deg-from-north=<pointing>\n",
    "            pointing=<deg-from-north, turn>\n",
    "                turn={no-turn, turn-left, turn-right}\n",
    "            location=<x, y, move; R_location>\n",
    "                move={no-move, forward, backward}\n",
    "\n",
    "    movement={turn-left, turn-right, forward, backward}\n",
    "        turn-left=<lm-ve, rm+ve, gy-ve; R_left; psi_turn>\n",
    "        turn-right=<lm+ve, rm-ve, gy+ve; R_right; psi_turn>\n",
    "        forward=<lm+ve, rm+ve, us-ve; R_straight; psi_move>\n",
    "        backward=<lm-ve, rm-ve, us+ve; R_straight; psi_move>\n",
    "        \n",
    "    control=<robot, movement; R_control; psi-inv_move>\n",
    "\"\"\")\n",
    "\n",
    "print(transformer(hn, 1, \"control\", [\"turn-right\"]))\n",
    "print(transformer(hn, 1, \"pointing\", [\"turn-right\"]))"
   ]
  },
  {
   "cell_type": "code",
   "execution_count": 7,
   "metadata": {},
   "outputs": [
    {
     "name": "stdout",
     "output_type": "stream",
     "text": [
      "control=<robot, turn-right; t_1>\n",
      "\n",
      "pointing=<deg-from-north, turn-right; t_1>\n",
      "\n"
     ]
    }
   ],
   "source": [
    "def find_variants(hn, subject):\n",
    "    res = []\n",
    "    hs = hn.hypernetwork[subject]\n",
    "\n",
    "    for part in hs.partOf:\n",
    "        if hn.hypernetwork[part].hstype == BETA:\n",
    "            for p in hn.hypernetwork[part].partOf:\n",
    "                res.append(p)\n",
    "\n",
    "    return res\n",
    "\n",
    "subject = \"turn-right\"\n",
    "for variant in find_variants(hn, subject):\n",
    "    print(transformer(hn, 1, variant, [subject]))"
   ]
  },
  {
   "cell_type": "code",
   "execution_count": null,
   "metadata": {},
   "outputs": [],
   "source": []
  },
  {
   "cell_type": "code",
   "execution_count": null,
   "metadata": {},
   "outputs": [],
   "source": []
  }
 ],
 "metadata": {
  "kernelspec": {
   "display_name": "Python 3",
   "language": "python",
   "name": "python3"
  },
  "language_info": {
   "codemirror_mode": {
    "name": "ipython",
    "version": 3
   },
   "file_extension": ".py",
   "mimetype": "text/x-python",
   "name": "python",
   "nbconvert_exporter": "python",
   "pygments_lexer": "ipython3",
   "version": "3.7.8"
  }
 },
 "nbformat": 4,
 "nbformat_minor": 4
}

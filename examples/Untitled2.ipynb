{
 "cells": [
  {
   "cell_type": "code",
   "execution_count": 1,
   "metadata": {},
   "outputs": [],
   "source": [
    "from hypernetworks.core.Hypernetwork import Hypernetwork\n",
    "from hypernetworks.core.Hypersimplex import VERTEX, ALPHA, BETA, hstype_to_str\n",
    "from hypernetworks.utils.HTCompiler import load_parser, compile_hn\n",
    "from hypernetworks.utils.HTGraph import draw_hn\n",
    "\n",
    "from IPython.display import Image, display"
   ]
  },
  {
   "cell_type": "code",
   "execution_count": 2,
   "metadata": {},
   "outputs": [],
   "source": [
    "parser = load_parser()"
   ]
  },
  {
   "cell_type": "code",
   "execution_count": 3,
   "metadata": {},
   "outputs": [
    {
     "data": {
      "image/png": "[encoded data removed]",
      "text/plain": [
       "<IPython.core.display.Image object>"
      ]
     },
     "execution_count": 3,
     "metadata": {
      "image/png": {
       "height": 500,
       "width": 500
      }
     },
     "output_type": "execute_result"
    }
   ],
   "source": [
    "faces = Hypernetwork()\n",
    "\n",
    "# compile_hn(faces, parser, \"\"\"\n",
    "#     <e, s, r; R_face>\n",
    "#     <e, f, r; R_face>\n",
    "#     <e, s, sq; R_face>\n",
    "# \"\"\")\n",
    "\n",
    "compile_hn(faces, parser, \"\"\"\n",
    "    jane = <<e, s>, r; R_face>\n",
    "    john = <<e, s>, f; R_face>\n",
    "\"\"\")\n",
    "\n",
    "draw_hn(faces, fname=\"/tmp/faces\", view=False)\n",
    "Image(filename='/tmp/faces.png', width=500, height=500)"
   ]
  },
  {
   "cell_type": "code",
   "execution_count": 4,
   "metadata": {},
   "outputs": [
    {
     "name": "stdout",
     "output_type": "stream",
     "text": [
      "\n",
      "[['e' 's' 'r']\n",
      " ['e' 'f' 'r']\n",
      " ['e' 'f' 'sq']]\n",
      "\n",
      "Incidence Matrix: ['e' 'f' 'r' 's' 'sq']\n",
      "[[1 0 1 1 0]\n",
      " [1 1 1 0 0]\n",
      " [1 1 0 0 1]]\n",
      "\n",
      "K: \n",
      "[[2 1 0]\n",
      " [1 2 1]\n",
      " [0 1 2]]\n",
      "\n",
      "Names:    ['esr' 'efr' 'efsq']\n",
      "Q top:    [2 2 2]\n",
      "Q bottom: [1 1 1]\n",
      "Eccentricity:\n",
      "\tesr = 0.5\n",
      "\tefr = 0.5\n",
      "\tefsq = 0.5\n",
      "\n",
      "Q Components:\n",
      "\t2:\n",
      "\t\t{'esr'}\n",
      "\t\t{'efr'}\n",
      "\t\t{'efsq'}\n",
      "\t1:\n",
      "\t\t{'efsq', 'efr', 'esr'}\n",
      "\t0:\n",
      "\t\t{'efsq', 'efr', 'esr'}\n"
     ]
    }
   ],
   "source": [
    "from hypernetworks.utils.QAnalysis import generate_test_matrix, get_incidence_matrix, QAnalysis\n",
    "import numpy as np\n",
    "\n",
    "\n",
    "\n",
    "X1 = ['Fred', 'Jill', 'Mary', 'Bill', 'John', 'Susan', 'Gareth', 'Angela']\n",
    "Y1 = ['000', '100', '200', '300', '400', '500', '600', '700', '800', '900']\n",
    "\n",
    "M1 = [\n",
    "    [0, 0, 0, 0, 0, 1, 1, 0, 0, 0],\n",
    "    [0, 0, 0, 0, 1, 0, 0, 1, 1, 1],\n",
    "    [0, 1, 1, 1, 0, 0, 0, 0, 0, 0],\n",
    "    [1, 0, 0, 0, 0, 1, 1, 0, 0, 0],\n",
    "    [0, 0, 0, 1, 1, 0, 0, 0, 0, 1],\n",
    "    [1, 0, 0, 0, 1, 0, 0, 1, 0, 0],\n",
    "    [1, 1, 0, 0, 0, 0, 0, 0, 0, 0],\n",
    "    [0, 0, 1, 0, 0, 0, 0, 0, 0, 0]\n",
    "]\n",
    "\n",
    "X2 = ['esr', 'efr', 'efsq']\n",
    "M2 = [\n",
    "    ['e', 's', 'r'],\n",
    "    ['e', 'f', 'r'],\n",
    "    ['e', 'f', 'sq']\n",
    "]\n",
    "\n",
    "\n",
    "def test(m, titles, trans=False):\n",
    "    im, Y = get_incidence_matrix(m)\n",
    "    print()\n",
    "    print(np.array(m))\n",
    "    print()\n",
    "    print(\"Incidence Matrix: \" + str(Y))\n",
    "    print(im)\n",
    "    print()\n",
    "    im = im.T if trans else im\n",
    "    titles = Y if trans else titles\n",
    "    Q = QAnalysis(im, titles)\n",
    "    K = np.array(Q.K)\n",
    "    print(\"K: \")\n",
    "    print(K)\n",
    "\n",
    "    Qa = Q.qcomponents\n",
    "    ecc = Q.ecc\n",
    "    print()\n",
    "    print(\"Names:    \" + str(np.array(titles)))\n",
    "    print(\"Q top:    \" + str(Q.top_q))\n",
    "    print(\"Q bottom: \" + str(Q.bottom_q))\n",
    "    print(\"Eccentricity:\")\n",
    "    for n, e in zip(titles, ecc):\n",
    "        print(\"\\t\" + n + \" = \" + str(e))\n",
    "\n",
    "    print()\n",
    "    print(\"Q Components:\")\n",
    "\n",
    "    for i in reversed(range(len(Qa))):\n",
    "        print(\"\\t\" + str(i) + \":\")\n",
    "\n",
    "        for x in Qa[i]:\n",
    "            print(\"\\t\\t\" + str(x))\n",
    "\n",
    "\n",
    "test(M2, X2)\n",
    "# test(M1, Y1, trans=True)"
   ]
  },
  {
   "cell_type": "code",
   "execution_count": 5,
   "metadata": {},
   "outputs": [
    {
     "name": "stdout",
     "output_type": "stream",
     "text": [
      "\n",
      "[[0 0 0 0 0 1 1 0 0 0]\n",
      " [0 0 0 0 1 0 0 1 1 1]\n",
      " [0 1 1 1 0 0 0 0 0 0]\n",
      " [1 0 0 0 0 1 1 0 0 0]\n",
      " [0 0 0 1 1 0 0 0 0 1]\n",
      " [1 0 0 0 1 0 0 1 0 0]\n",
      " [1 1 0 0 0 0 0 0 0 0]\n",
      " [0 0 1 0 0 0 0 0 0 0]]\n",
      "\n",
      "Incidence Matrix: [0 1]\n",
      "[[1 1]\n",
      " [1 1]\n",
      " [1 1]\n",
      " [1 1]\n",
      " [1 1]\n",
      " [1 1]\n",
      " [1 1]\n",
      " [1 1]]\n",
      "\n"
     ]
    },
    {
     "ename": "IndexError",
     "evalue": "index 8 is out of bounds for axis 0 with size 8",
     "output_type": "error",
     "traceback": [
      "\u001b[0;31m---------------------------------------------------------------------------\u001b[0m",
      "\u001b[0;31mIndexError\u001b[0m                                Traceback (most recent call last)",
      "Cell \u001b[0;32mIn[5], line 1\u001b[0m\n\u001b[0;32m----> 1\u001b[0m \u001b[43mtest\u001b[49m\u001b[43m(\u001b[49m\u001b[43mM1\u001b[49m\u001b[43m,\u001b[49m\u001b[43m \u001b[49m\u001b[43mY1\u001b[49m\u001b[43m)\u001b[49m\n",
      "Cell \u001b[0;32mIn[4], line 38\u001b[0m, in \u001b[0;36mtest\u001b[0;34m(m, titles, trans)\u001b[0m\n\u001b[1;32m     36\u001b[0m im \u001b[38;5;241m=\u001b[39m im\u001b[38;5;241m.\u001b[39mT \u001b[38;5;28;01mif\u001b[39;00m trans \u001b[38;5;28;01melse\u001b[39;00m im\n\u001b[1;32m     37\u001b[0m titles \u001b[38;5;241m=\u001b[39m Y \u001b[38;5;28;01mif\u001b[39;00m trans \u001b[38;5;28;01melse\u001b[39;00m titles\n\u001b[0;32m---> 38\u001b[0m Q \u001b[38;5;241m=\u001b[39m \u001b[43mQAnalysis\u001b[49m\u001b[43m(\u001b[49m\u001b[43mim\u001b[49m\u001b[43m,\u001b[49m\u001b[43m \u001b[49m\u001b[43mtitles\u001b[49m\u001b[43m)\u001b[49m\n\u001b[1;32m     39\u001b[0m K \u001b[38;5;241m=\u001b[39m np\u001b[38;5;241m.\u001b[39marray(Q\u001b[38;5;241m.\u001b[39mK)\n\u001b[1;32m     40\u001b[0m \u001b[38;5;28mprint\u001b[39m(\u001b[38;5;124m\"\u001b[39m\u001b[38;5;124mK: \u001b[39m\u001b[38;5;124m\"\u001b[39m)\n",
      "File \u001b[0;32m/Library/Frameworks/Python.framework/Versions/3.11/lib/python3.11/site-packages/hypernetworks/utils/QAnalysis.py:81\u001b[0m, in \u001b[0;36mQAnalysis.__init__\u001b[0;34m(self, im, titles)\u001b[0m\n\u001b[1;32m     79\u001b[0m \u001b[38;5;28mself\u001b[39m\u001b[38;5;241m.\u001b[39m_Qsize \u001b[38;5;241m=\u001b[39m \u001b[38;5;28mself\u001b[39m\u001b[38;5;241m.\u001b[39m_find_Qsize()\n\u001b[1;32m     80\u001b[0m \u001b[38;5;28mself\u001b[39m\u001b[38;5;241m.\u001b[39m_Q, \u001b[38;5;28mself\u001b[39m\u001b[38;5;241m.\u001b[39m_obstruction, \u001b[38;5;28mself\u001b[39m\u001b[38;5;241m.\u001b[39m_components \u001b[38;5;241m=\u001b[39m \u001b[38;5;28mself\u001b[39m\u001b[38;5;241m.\u001b[39m_q_analysis()\n\u001b[0;32m---> 81\u001b[0m \u001b[38;5;28mself\u001b[39m\u001b[38;5;241m.\u001b[39m_top_q, \u001b[38;5;28mself\u001b[39m\u001b[38;5;241m.\u001b[39m_bottom_q, \u001b[38;5;28mself\u001b[39m\u001b[38;5;241m.\u001b[39m_ecc \u001b[38;5;241m=\u001b[39m \u001b[38;5;28;43mself\u001b[39;49m\u001b[38;5;241;43m.\u001b[39;49m\u001b[43m_eccentricity\u001b[49m\u001b[43m(\u001b[49m\u001b[43m)\u001b[49m\n",
      "File \u001b[0;32m/Library/Frameworks/Python.framework/Versions/3.11/lib/python3.11/site-packages/hypernetworks/utils/QAnalysis.py:123\u001b[0m, in \u001b[0;36mQAnalysis._eccentricity\u001b[0;34m(self)\u001b[0m\n\u001b[1;32m    120\u001b[0m qb \u001b[38;5;241m=\u001b[39m \u001b[38;5;241m0\u001b[39m\n\u001b[1;32m    122\u001b[0m \u001b[38;5;28;01mfor\u001b[39;00m j \u001b[38;5;129;01min\u001b[39;00m \u001b[38;5;28mrange\u001b[39m(l):\n\u001b[0;32m--> 123\u001b[0m     \u001b[38;5;28;01mif\u001b[39;00m i \u001b[38;5;241m!=\u001b[39m j \u001b[38;5;129;01mand\u001b[39;00m qb \u001b[38;5;241m<\u001b[39m \u001b[38;5;28;43mself\u001b[39;49m\u001b[38;5;241;43m.\u001b[39;49m\u001b[43mK\u001b[49m\u001b[43m[\u001b[49m\u001b[43mi\u001b[49m\u001b[43m]\u001b[49m\u001b[43m[\u001b[49m\u001b[43mj\u001b[49m\u001b[43m]\u001b[49m:\n\u001b[1;32m    124\u001b[0m         qb \u001b[38;5;241m=\u001b[39m \u001b[38;5;28mself\u001b[39m\u001b[38;5;241m.\u001b[39mK[i][j]\n\u001b[1;32m    126\u001b[0m e \u001b[38;5;241m=\u001b[39m (\u001b[38;5;28mfloat\u001b[39m(qt\u001b[38;5;241m-\u001b[39mqb)) \u001b[38;5;241m/\u001b[39m (\u001b[38;5;28mfloat\u001b[39m(qb\u001b[38;5;241m+\u001b[39m\u001b[38;5;241m1\u001b[39m))\n",
      "\u001b[0;31mIndexError\u001b[0m: index 8 is out of bounds for axis 0 with size 8"
     ]
    }
   ],
   "source": [
    "test(M1, Y1)"
   ]
  },
  {
   "cell_type": "code",
   "execution_count": null,
   "metadata": {},
   "outputs": [],
   "source": []
  }
 ],
 "metadata": {
  "kernelspec": {
   "display_name": "Python 3 (ipykernel)",
   "language": "python",
   "name": "python3"
  },
  "language_info": {
   "codemirror_mode": {
    "name": "ipython",
    "version": 3
   },
   "file_extension": ".py",
   "mimetype": "text/x-python",
   "name": "python",
   "nbconvert_exporter": "python",
   "pygments_lexer": "ipython3",
   "version": "3.11.7"
  }
 },
 "nbformat": 4,
 "nbformat_minor": 4
}

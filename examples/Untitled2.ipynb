{
 "cells": [
  {
   "cell_type": "code",
   "execution_count": 1,
   "metadata": {},
   "outputs": [],
   "source": [
    "from hypernetworks.core.Hypernetwork import Hypernetwork\n",
    "from hypernetworks.core.Hypersimplex import VERTEX, ALPHA, BETA, hstype_to_str\n",
    "from hypernetworks.utils.HTCompiler import load_parser, compile_hn\n",
    "from hypernetworks.utils.HTGraph import draw_hn\n",
    "\n",
    "from IPython.display import Image, display"
   ]
  },
  {
   "cell_type": "code",
   "execution_count": 2,
   "metadata": {},
   "outputs": [],
   "source": [
    "parser = load_parser()"
   ]
  },
  {
   "cell_type": "code",
   "execution_count": 3,
   "metadata": {},
   "outputs": [
    {
     "name": "stdout",
     "output_type": "stream",
     "text": [
      "HELLO 1 ['e', 's']\n",
      "\t\tHELLO 3 e\n",
      "\t\tHELLO 3 s\n",
      "HELLO 1 ['e', 's']\n",
      "\t\tHELLO 3 e\n",
      "\t\tHELLO 3 s\n"
     ]
    },
    {
     "data": {
      "image/png": "[encoded data removed]",
      "text/plain": [
       "<IPython.core.display.Image object>"
      ]
     },
     "execution_count": 3,
     "metadata": {
      "image/png": {
       "height": 500,
       "width": 500
      }
     },
     "output_type": "execute_result"
    }
   ],
   "source": [
    "faces = Hypernetwork()\n",
    "\n",
    "# compile_hn(faces, parser, \"\"\"\n",
    "#     <e, s, r; R_face>\n",
    "#     <e, f, r; R_face>\n",
    "#     <e, s, sq; R_face>\n",
    "# \"\"\")\n",
    "\n",
    "compile_hn(faces, parser, \"\"\"\n",
    "    jane = <<e, s>, r; R_face>\n",
    "    john = <<e, s>, f; R_face>\n",
    "\"\"\")\n",
    "\n",
    "draw_hn(faces, fname=\"/tmp/faces\", view=False)\n",
    "Image(filename='/tmp/faces.png', width=500, height=500)"
   ]
  },
  {
   "cell_type": "code",
   "execution_count": 4,
   "metadata": {},
   "outputs": [
    {
     "name": "stdout",
     "output_type": "stream",
     "text": [
      "\n",
      "[['e' 's' 'r']\n",
      " ['e' 'f' 'r']\n",
      " ['e' 'f' 'sq']]\n",
      "\n",
      "Incidence Matrix: ['e' 'f' 'r' 's' 'sq']\n",
      "[[1 0 1 1 0]\n",
      " [1 1 1 0 0]\n",
      " [1 1 0 0 1]]\n",
      "\n",
      "K: \n",
      "[[2 1 0]\n",
      " [1 2 1]\n",
      " [0 1 2]]\n",
      "\n",
      "Names:    ['esr' 'efr' 'efsq']\n",
      "Q top:    [2 2 2]\n",
      "Q bottom: [1 1 1]\n",
      "Eccentricity:\n",
      "\tesr = 0.5\n",
      "\tefr = 0.5\n",
      "\tefsq = 0.5\n",
      "\n",
      "Q Components:\n",
      "\t2:\n",
      "\t\t{'esr'}\n",
      "\t\t{'efr'}\n",
      "\t\t{'efsq'}\n",
      "\t1:\n",
      "\t\t{'efsq', 'esr', 'efr'}\n",
      "\t0:\n",
      "\t\t{'efsq', 'esr', 'efr'}\n"
     ]
    }
   ],
   "source": [
    "from hypernetworks.utils.QAnalysis import generate_test_matrix, get_incidence_matrix, QAnalysis\n",
    "import numpy as np\n",
    "\n",
    "\n",
    "\n",
    "X1 = ['Fred', 'Jill', 'Mary', 'Bill', 'John', 'Susan', 'Gareth', 'Angela']\n",
    "Y1 = ['000', '100', '200', '300', '400', '500', '600', '700', '800', '900']\n",
    "\n",
    "M1 = [\n",
    "    [0, 0, 0, 0, 0, 1, 1, 0, 0, 0],\n",
    "    [0, 0, 0, 0, 1, 0, 0, 1, 1, 1],\n",
    "    [0, 1, 1, 1, 0, 0, 0, 0, 0, 0],\n",
    "    [1, 0, 0, 0, 0, 1, 1, 0, 0, 0],\n",
    "    [0, 0, 0, 1, 1, 0, 0, 0, 0, 1],\n",
    "    [1, 0, 0, 0, 1, 0, 0, 1, 0, 0],\n",
    "    [1, 1, 0, 0, 0, 0, 0, 0, 0, 0],\n",
    "    [0, 0, 1, 0, 0, 0, 0, 0, 0, 0]\n",
    "]\n",
    "\n",
    "X2 = ['esr', 'efr', 'efsq']\n",
    "M2 = [\n",
    "    ['e', 's', 'r'],\n",
    "    ['e', 'f', 'r'],\n",
    "    ['e', 'f', 'sq']\n",
    "]\n",
    "\n",
    "\n",
    "def test(m, titles, trans=False):\n",
    "    im, Y = get_incidence_matrix(m)\n",
    "    print()\n",
    "    print(np.array(m))\n",
    "    print()\n",
    "    print(\"Incidence Matrix: \" + str(Y))\n",
    "    print(im)\n",
    "    print()\n",
    "    im = im.T if trans else im\n",
    "    titles = Y if trans else titles\n",
    "    Q = QAnalysis(im, titles)\n",
    "    K = np.array(Q.K)\n",
    "    print(\"K: \")\n",
    "    print(K)\n",
    "\n",
    "    Qa = Q.qcomponents\n",
    "    ecc = Q.ecc\n",
    "    print()\n",
    "    print(\"Names:    \" + str(np.array(titles)))\n",
    "    print(\"Q top:    \" + str(Q.top_q))\n",
    "    print(\"Q bottom: \" + str(Q.bottom_q))\n",
    "    print(\"Eccentricity:\")\n",
    "    for n, e in zip(titles, ecc):\n",
    "        print(\"\\t\" + n + \" = \" + str(e))\n",
    "\n",
    "    print()\n",
    "    print(\"Q Components:\")\n",
    "\n",
    "    for i in reversed(range(len(Qa))):\n",
    "        print(\"\\t\" + str(i) + \":\")\n",
    "\n",
    "        for x in Qa[i]:\n",
    "            print(\"\\t\\t\" + str(x))\n",
    "\n",
    "\n",
    "test(M2, X2)\n",
    "# test(M1, Y1, trans=True)"
   ]
  },
  {
   "cell_type": "code",
   "execution_count": 5,
   "metadata": {},
   "outputs": [
    {
     "name": "stdout",
     "output_type": "stream",
     "text": [
      "\n",
      "[[0 0 0 0 0 1 1 0 0 0]\n",
      " [0 0 0 0 1 0 0 1 1 1]\n",
      " [0 1 1 1 0 0 0 0 0 0]\n",
      " [1 0 0 0 0 1 1 0 0 0]\n",
      " [0 0 0 1 1 0 0 0 0 1]\n",
      " [1 0 0 0 1 0 0 1 0 0]\n",
      " [1 1 0 0 0 0 0 0 0 0]\n",
      " [0 0 1 0 0 0 0 0 0 0]]\n",
      "\n",
      "Incidence Matrix: [0 1]\n",
      "[[1 1]\n",
      " [1 1]\n",
      " [1 1]\n",
      " [1 1]\n",
      " [1 1]\n",
      " [1 1]\n",
      " [1 1]\n",
      " [1 1]]\n",
      "\n"
     ]
    },
    {
     "ename": "IndexError",
     "evalue": "index 8 is out of bounds for axis 0 with size 8",
     "output_type": "error",
     "traceback": [
      "\u001b[0;31m---------------------------------------------------------------------------\u001b[0m",
      "\u001b[0;31mIndexError\u001b[0m                                Traceback (most recent call last)",
      "\u001b[0;32m<ipython-input-5-33fbf4813cf5>\u001b[0m in \u001b[0;36m<module>\u001b[0;34m\u001b[0m\n\u001b[0;32m----> 1\u001b[0;31m \u001b[0mtest\u001b[0m\u001b[0;34m(\u001b[0m\u001b[0mM1\u001b[0m\u001b[0;34m,\u001b[0m \u001b[0mY1\u001b[0m\u001b[0;34m)\u001b[0m\u001b[0;34m\u001b[0m\u001b[0;34m\u001b[0m\u001b[0m\n\u001b[0m",
      "\u001b[0;32m<ipython-input-4-dcd029afe4c4>\u001b[0m in \u001b[0;36mtest\u001b[0;34m(m, titles, trans)\u001b[0m\n\u001b[1;32m     36\u001b[0m     \u001b[0mim\u001b[0m \u001b[0;34m=\u001b[0m \u001b[0mim\u001b[0m\u001b[0;34m.\u001b[0m\u001b[0mT\u001b[0m \u001b[0;32mif\u001b[0m \u001b[0mtrans\u001b[0m \u001b[0;32melse\u001b[0m \u001b[0mim\u001b[0m\u001b[0;34m\u001b[0m\u001b[0;34m\u001b[0m\u001b[0m\n\u001b[1;32m     37\u001b[0m     \u001b[0mtitles\u001b[0m \u001b[0;34m=\u001b[0m \u001b[0mY\u001b[0m \u001b[0;32mif\u001b[0m \u001b[0mtrans\u001b[0m \u001b[0;32melse\u001b[0m \u001b[0mtitles\u001b[0m\u001b[0;34m\u001b[0m\u001b[0;34m\u001b[0m\u001b[0m\n\u001b[0;32m---> 38\u001b[0;31m     \u001b[0mQ\u001b[0m \u001b[0;34m=\u001b[0m \u001b[0mQAnalysis\u001b[0m\u001b[0;34m(\u001b[0m\u001b[0mim\u001b[0m\u001b[0;34m,\u001b[0m \u001b[0mtitles\u001b[0m\u001b[0;34m)\u001b[0m\u001b[0;34m\u001b[0m\u001b[0;34m\u001b[0m\u001b[0m\n\u001b[0m\u001b[1;32m     39\u001b[0m     \u001b[0mK\u001b[0m \u001b[0;34m=\u001b[0m \u001b[0mnp\u001b[0m\u001b[0;34m.\u001b[0m\u001b[0marray\u001b[0m\u001b[0;34m(\u001b[0m\u001b[0mQ\u001b[0m\u001b[0;34m.\u001b[0m\u001b[0mK\u001b[0m\u001b[0;34m)\u001b[0m\u001b[0;34m\u001b[0m\u001b[0;34m\u001b[0m\u001b[0m\n\u001b[1;32m     40\u001b[0m     \u001b[0mprint\u001b[0m\u001b[0;34m(\u001b[0m\u001b[0;34m\"K: \"\u001b[0m\u001b[0;34m)\u001b[0m\u001b[0;34m\u001b[0m\u001b[0;34m\u001b[0m\u001b[0m\n",
      "\u001b[0;32m/Library/Frameworks/Python.framework/Versions/3.7/lib/python3.7/site-packages/hypernetworks/utils/QAnalysis.py\u001b[0m in \u001b[0;36m__init__\u001b[0;34m(self, im, titles)\u001b[0m\n\u001b[1;32m     80\u001b[0m         \u001b[0mself\u001b[0m\u001b[0;34m.\u001b[0m\u001b[0m_Qsize\u001b[0m \u001b[0;34m=\u001b[0m \u001b[0mself\u001b[0m\u001b[0;34m.\u001b[0m\u001b[0m_find_Qsize\u001b[0m\u001b[0;34m(\u001b[0m\u001b[0;34m)\u001b[0m\u001b[0;34m\u001b[0m\u001b[0;34m\u001b[0m\u001b[0m\n\u001b[1;32m     81\u001b[0m         \u001b[0mself\u001b[0m\u001b[0;34m.\u001b[0m\u001b[0m_Q\u001b[0m\u001b[0;34m,\u001b[0m \u001b[0mself\u001b[0m\u001b[0;34m.\u001b[0m\u001b[0m_obstruction\u001b[0m\u001b[0;34m,\u001b[0m \u001b[0mself\u001b[0m\u001b[0;34m.\u001b[0m\u001b[0m_components\u001b[0m \u001b[0;34m=\u001b[0m \u001b[0mself\u001b[0m\u001b[0;34m.\u001b[0m\u001b[0m_q_analysis\u001b[0m\u001b[0;34m(\u001b[0m\u001b[0;34m)\u001b[0m\u001b[0;34m\u001b[0m\u001b[0;34m\u001b[0m\u001b[0m\n\u001b[0;32m---> 82\u001b[0;31m         \u001b[0mself\u001b[0m\u001b[0;34m.\u001b[0m\u001b[0m_top_q\u001b[0m\u001b[0;34m,\u001b[0m \u001b[0mself\u001b[0m\u001b[0;34m.\u001b[0m\u001b[0m_bottom_q\u001b[0m\u001b[0;34m,\u001b[0m \u001b[0mself\u001b[0m\u001b[0;34m.\u001b[0m\u001b[0m_ecc\u001b[0m \u001b[0;34m=\u001b[0m \u001b[0mself\u001b[0m\u001b[0;34m.\u001b[0m\u001b[0m_eccentricity\u001b[0m\u001b[0;34m(\u001b[0m\u001b[0;34m)\u001b[0m\u001b[0;34m\u001b[0m\u001b[0;34m\u001b[0m\u001b[0m\n\u001b[0m\u001b[1;32m     83\u001b[0m \u001b[0;34m\u001b[0m\u001b[0m\n\u001b[1;32m     84\u001b[0m     \u001b[0;34m@\u001b[0m\u001b[0mproperty\u001b[0m\u001b[0;34m\u001b[0m\u001b[0;34m\u001b[0m\u001b[0m\n",
      "\u001b[0;32m/Library/Frameworks/Python.framework/Versions/3.7/lib/python3.7/site-packages/hypernetworks/utils/QAnalysis.py\u001b[0m in \u001b[0;36m_eccentricity\u001b[0;34m(self)\u001b[0m\n\u001b[1;32m    122\u001b[0m \u001b[0;34m\u001b[0m\u001b[0m\n\u001b[1;32m    123\u001b[0m             \u001b[0;32mfor\u001b[0m \u001b[0mj\u001b[0m \u001b[0;32min\u001b[0m \u001b[0mrange\u001b[0m\u001b[0;34m(\u001b[0m\u001b[0ml\u001b[0m\u001b[0;34m)\u001b[0m\u001b[0;34m:\u001b[0m\u001b[0;34m\u001b[0m\u001b[0;34m\u001b[0m\u001b[0m\n\u001b[0;32m--> 124\u001b[0;31m                 \u001b[0;32mif\u001b[0m \u001b[0mi\u001b[0m \u001b[0;34m!=\u001b[0m \u001b[0mj\u001b[0m \u001b[0;32mand\u001b[0m \u001b[0mqb\u001b[0m \u001b[0;34m<\u001b[0m \u001b[0mself\u001b[0m\u001b[0;34m.\u001b[0m\u001b[0mK\u001b[0m\u001b[0;34m[\u001b[0m\u001b[0mi\u001b[0m\u001b[0;34m]\u001b[0m\u001b[0;34m[\u001b[0m\u001b[0mj\u001b[0m\u001b[0;34m]\u001b[0m\u001b[0;34m:\u001b[0m\u001b[0;34m\u001b[0m\u001b[0;34m\u001b[0m\u001b[0m\n\u001b[0m\u001b[1;32m    125\u001b[0m                     \u001b[0mqb\u001b[0m \u001b[0;34m=\u001b[0m \u001b[0mself\u001b[0m\u001b[0;34m.\u001b[0m\u001b[0mK\u001b[0m\u001b[0;34m[\u001b[0m\u001b[0mi\u001b[0m\u001b[0;34m]\u001b[0m\u001b[0;34m[\u001b[0m\u001b[0mj\u001b[0m\u001b[0;34m]\u001b[0m\u001b[0;34m\u001b[0m\u001b[0;34m\u001b[0m\u001b[0m\n\u001b[1;32m    126\u001b[0m \u001b[0;34m\u001b[0m\u001b[0m\n",
      "\u001b[0;31mIndexError\u001b[0m: index 8 is out of bounds for axis 0 with size 8"
     ]
    }
   ],
   "source": [
    "test(M1, Y1)"
   ]
  },
  {
   "cell_type": "code",
   "execution_count": null,
   "metadata": {},
   "outputs": [],
   "source": []
  }
 ],
 "metadata": {
  "kernelspec": {
   "display_name": "Python 3",
   "language": "python",
   "name": "python3"
  },
  "language_info": {
   "codemirror_mode": {
    "name": "ipython",
    "version": 3
   },
   "file_extension": ".py",
   "mimetype": "text/x-python",
   "name": "python",
   "nbconvert_exporter": "python",
   "pygments_lexer": "ipython3",
   "version": "3.7.8"
  }
 },
 "nbformat": 4,
 "nbformat_minor": 4
}

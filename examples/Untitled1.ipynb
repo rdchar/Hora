{
 "cells": [
  {
   "cell_type": "code",
   "execution_count": 1,
   "metadata": {},
   "outputs": [],
   "source": [
    "from hypernetworks.core.Hypernetwork import Hypernetwork\n",
    "from hypernetworks.core.Hypersimplex import VERTEX, ALPHA, BETA, hstype_to_str\n",
    "from hypernetworks.utils.HTCompiler import load_parser, compile_hn\n",
    "from hypernetworks.utils.HTTools import remove_special, is_seq\n",
    "from hypernetworks.utils.HTGraph import to_graph\n",
    "\n",
    "from IPython.display import Image"
   ]
  },
  {
   "cell_type": "code",
   "execution_count": 6,
   "metadata": {},
   "outputs": [],
   "source": [
    "hn = Hypernetwork()\n",
    "parser = load_parser()"
   ]
  },
  {
   "cell_type": "code",
   "execution_count": 7,
   "metadata": {},
   "outputs": [
    {
     "name": "stdout",
     "output_type": "stream",
     "text": [
      "[]\n",
      "[]\n"
     ]
    },
    {
     "data": {
      "text/plain": [
       "<hypernetworks.core.Hypernetwork.Hypernetwork at 0x7f93a83f9f10>"
      ]
     },
     "execution_count": 7,
     "metadata": {},
     "output_type": "execute_result"
    }
   ],
   "source": [
    "compile_hn(hn, parser, \"\"\"\n",
    "    x=<a1, b1, a2, b2; R_x|v_1 /inside/ v_2>\n",
    "    #x -> v_1 /above/ v_2 /above/ v_3 /above/ v_4;\n",
    "    y -> (v_1 /above/ v_2) /next/ (v_3 /above/ v_4);\n",
    "\"\"\")\n"
   ]
  },
  {
   "cell_type": "code",
   "execution_count": 8,
   "metadata": {},
   "outputs": [
    {
     "name": "stdout",
     "output_type": "stream",
     "text": [
      "x : [[{'VNAME': 1}, {'PRED': 'inside'}, {'VNAME': 2}]]\n",
      "y : [[{'VNAME': 1}, {'PRED': 'above'}, {'VNAME': 2}], {'PRED': 'next'}, [{'VNAME': 3}, {'PRED': 'above'}, {'VNAME': 4}]]\n"
     ]
    }
   ],
   "source": [
    "for key, rel in hn.relations.items():\n",
    "    #for r in rel:\n",
    "    #    print(r['RELS'])\n",
    "    print(key, \":\", rel)\n",
    "    "
   ]
  },
  {
   "cell_type": "code",
   "execution_count": 5,
   "metadata": {},
   "outputs": [
    {
     "data": {
      "image/png": "[encoded data removed]",
      "text/plain": [
       "<IPython.core.display.Image object>"
      ]
     },
     "execution_count": 5,
     "metadata": {
      "image/png": {
       "height": 600,
       "width": 600
      }
     },
     "output_type": "execute_result"
    }
   ],
   "source": [
    "to_graph(hn, fname=\"/tmp/hn\", view=False)\n",
    "Image(filename='/tmp/hn.png', width=600, height=600)"
   ]
  },
  {
   "cell_type": "code",
   "execution_count": null,
   "metadata": {},
   "outputs": [],
   "source": []
  },
  {
   "cell_type": "code",
   "execution_count": null,
   "metadata": {},
   "outputs": [],
   "source": []
  }
 ],
 "metadata": {
  "kernelspec": {
   "display_name": "Python 3",
   "language": "python",
   "name": "python3"
  },
  "language_info": {
   "codemirror_mode": {
    "name": "ipython",
    "version": 3
   },
   "file_extension": ".py",
   "mimetype": "text/x-python",
   "name": "python",
   "nbconvert_exporter": "python",
   "pygments_lexer": "ipython3",
   "version": "3.7.8"
  }
 },
 "nbformat": 4,
 "nbformat_minor": 4
}

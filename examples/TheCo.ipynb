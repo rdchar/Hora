{
 "cells": [
  {
   "cell_type": "code",
   "execution_count": 1,
   "id": "49ec2b37-0a11-42f2-8e1e-704fae8992b0",
   "metadata": {},
   "outputs": [],
   "source": [
    "from hypernetworks.core.Hypernetwork import Hypernetwork\n",
    "from hypernetworks.core.Hypersimplex import VERTEX, ALPHA, BETA, PROPERTY, UNION_ALPHA, IMMUTABLE_ALPHA, SEQUENCE, hstype_to_str\n",
    "from hypernetworks.utils.HTCompiler import load_parser, compile_hn\n",
    "from hypernetworks.utils.HTGraph import draw_hn\n",
    "from hypernetworks.utils.HTTools import get_subHn_by_semantic_boundary\n",
    "\n",
    "from IPython.display import Image, display\n",
    "\n",
    "from graphviz import nohtml\n",
    "\n",
    "import graphviz\n",
    "import pprint as pp\n",
    "import re\n",
    "import textwrap\n",
    "import iplantuml\n",
    "\n",
    "pictures_dir = \"pictures/TheCo/\"\n",
    "parser = load_parser()"
   ]
  },
  {
   "cell_type": "code",
   "execution_count": 2,
   "id": "b697c873-80bc-4044-bb3c-aa3eafb646e9",
   "metadata": {},
   "outputs": [
    {
     "data": {
      "text/plain": [
       "<hypernetworks.core.Hypernetwork.Hypernetwork at 0x1097da050>"
      ]
     },
     "execution_count": 2,
     "metadata": {},
     "output_type": "execute_result"
    }
   ],
   "source": [
    "capabilities_hn = Hypernetwork()\n",
    "\n",
    "compile_hn(capabilities_hn, parser, \"\"\"\n",
    "    job-booking=<; R_capability; B(capabilities)>\n",
    "    scheduling=<; R_capability; B(capabilities)>\n",
    "    job-management=<dispatch, deprogram; R_capability; B(capabilities)>\n",
    "        dispatch=<; R_capability; B(capabilities)>\n",
    "        deprogram=<; R_capability; B(capabilities)>\n",
    "        \n",
    "    field-management=<; R_capability; B(capabilities)>\n",
    "    field-operations=<; R_capability; B(capabilities)>\n",
    "    asset-management=<; R_capability; B(capabilities)>\n",
    "\n",
    "    billing=<; R_capability; B(capabilities)>\n",
    "\n",
    "    externals={customer, internal, external; R_externals; B(external)}\n",
    "\"\"\", boundary_percolation=True)\n",
    "\n",
    "# draw_hn(capabilities_hn, fname=pictures_dir+\"capabilities-hn\", view=False, show_hstype=False, show_vertex=False)\n",
    "# Image(filename=pictures_dir+\"capabilities-hn.png\", width=1000, height=1200)"
   ]
  },
  {
   "cell_type": "code",
   "execution_count": 3,
   "id": "2d062e9a-e2f0-4881-9439-a688c04c63c5",
   "metadata": {},
   "outputs": [
    {
     "data": {
      "text/plain": [
       "<hypernetworks.core.Hypernetwork.Hypernetwork at 0x118be8450>"
      ]
     },
     "execution_count": 3,
     "metadata": {},
     "output_type": "execute_result"
    }
   ],
   "source": [
    "business_objects_hn = Hypernetwork()\n",
    "\n",
    "compile_hn(business_objects_hn, parser, \"\"\"\n",
    "    business-objects={job, job-result, asset, contract; R_business-objects}\n",
    "\"\"\")\n",
    "\n",
    "# draw_hn(business_objects_hn, fname=pictures_dir+\"business-objects-hn\", view=False, show_hstype=False, show_vertex=False)\n",
    "# Image(filename=pictures_dir+\"business-objects-hn.png\", width=200, height=1200)"
   ]
  },
  {
   "cell_type": "code",
   "execution_count": 4,
   "id": "48cbcfcb-a37e-4edd-b0d1-77377cd1c778",
   "metadata": {},
   "outputs": [
    {
     "data": {
      "text/plain": [
       "<hypernetworks.core.Hypernetwork.Hypernetwork at 0x118bea610>"
      ]
     },
     "execution_count": 4,
     "metadata": {},
     "output_type": "execute_result"
    }
   ],
   "source": [
    "capability_flow_hn = Hypernetwork()\n",
    "\n",
    "compile_hn(capability_flow_hn, parser, \"\"\"\n",
    "    customer-job-booking=<customer, job, job-booking; R_flow; B(capability-flows)>\n",
    "    internal-job-booking=<internal, job, job-booking; R_flow; B(capability-flows)>\n",
    "    external-job-booking=<external, job, job-booking; R_flow; B(capability-flows)>\n",
    "\n",
    "    job-booking-scheduling=<job-booking, job, scheduling; R_flow; B(capability-flows)>\n",
    "    job-booking-dispatch=<job-booking, job, dispatch; R_flow; B(capability-flows)>\n",
    "\n",
    "    asset-management-dispatch=<asset-management, asset, dispatch; R_flow; B(capability-flows)>\n",
    "    dispatch-field-management=<dispatch, <job, asset>, field-management; R_flow; B(capability-flows)>\n",
    "    dispatch-field-operations=<dispatch, <job, asset>, field-operations; R_flow; B(capability-flows)>\n",
    "\n",
    "    field-operations-deprogram=<field-operations, deprogram; R_flow; B(capability-flows)>\n",
    "\n",
    "    deprogram-billing=<deprogram, job-result, billing; R_flow; B(capability-flows)>\n",
    "    deprogram-asset-management=<deprogram, asset, asset-management; R_flow; B(capability-flows)>\n",
    "    deprogram-customer=<deprogram, job-result, customer; R_flow; B(capability-flows)>\n",
    "    deprogram-external=<deprogram, job-result, external; R_flow; B(capability-flows)>\n",
    "    deprogram-internal=<deprogram, job-result, internal; R_flow; B(capability-flows)>\n",
    "\"\"\", boundary_percolation=True)\n",
    "\n",
    "# draw_hn(capability_flow_hn, fname=pictures_dir+\"capability-flow-hn\", view=False, show_hstype=False, show_vertex=False, direction=\"LR\")\n",
    "# Image(filename=pictures_dir+\"capability-flow-hn.png\", width=900, height=1200)"
   ]
  },
  {
   "cell_type": "code",
   "execution_count": 5,
   "id": "cab053ff-574d-4675-bd28-941d85c6fbb4",
   "metadata": {},
   "outputs": [
    {
     "data": {
      "text/plain": [
       "<hypernetworks.core.Hypernetwork.Hypernetwork at 0x1189ee8d0>"
      ]
     },
     "execution_count": 5,
     "metadata": {},
     "output_type": "execute_result"
    }
   ],
   "source": [
    "hn = Hypernetwork()\n",
    "\n",
    "hn.copy(capabilities_hn)\n",
    "hn.merge(business_objects_hn)\n",
    "hn.merge(capability_flow_hn)\n",
    "\n",
    "# draw_hn(hn, fname=pictures_dir+\"hn\", view=False, show_hstype=False, direction=\"LR\")\n",
    "# Image(filename=pictures_dir+\"hn.png\", width=1000, height=1200)"
   ]
  },
  {
   "cell_type": "code",
   "execution_count": 6,
   "id": "7eba2283-97b6-4019-b1a8-d88da0737ac5",
   "metadata": {},
   "outputs": [
    {
     "data": {
      "text/plain": [
       "<hypernetworks.core.Hypernetwork.Hypernetwork at 0x11904e9d0>"
      ]
     },
     "execution_count": 6,
     "metadata": {},
     "output_type": "execute_result"
    }
   ],
   "source": [
    "old_applications_hn = Hypernetwork()\n",
    "\n",
    "compile_hn(old_applications_hn, parser, \"\"\"\n",
    "    old-applications={\n",
    "        JB=<job-booking; R_system; B(old, system)>,\n",
    "        Sched=<scheduling; R_system; B(old, system)>,\n",
    "        AM=<asset-management; R_system; B(old, system)>,\n",
    "        Integration=<job-management; R_system; B(old, system)>,\n",
    "        Field=<field-management, field-operations; R_system; B(old, system)>,\n",
    "        Billing=<billing; R_system; B(old, system)>\n",
    "    ; R_applications; B(applications)}\n",
    "\"\"\")\n",
    "\n",
    "# draw_hn(old_applications_hn, fname=pictures_dir+\"old-applications-hn\", view=False, show_hstype=False, show_vertex=False)\n",
    "# Image(filename=pictures_dir+\"old-applications-hn.png\", width=900, height=1200)"
   ]
  },
  {
   "cell_type": "code",
   "execution_count": 7,
   "id": "179016f4-98dd-4e6d-9813-a60d55496209",
   "metadata": {},
   "outputs": [
    {
     "data": {
      "text/plain": [
       "<hypernetworks.core.Hypernetwork.Hypernetwork at 0x104b08550>"
      ]
     },
     "execution_count": 7,
     "metadata": {},
     "output_type": "execute_result"
    }
   ],
   "source": [
    "new_applications_hn = Hypernetwork()\n",
    "\n",
    "compile_hn(new_applications_hn, parser, \"\"\"\n",
    "    new-applications={\n",
    "        CRM=<job-booking; R_system; B(new, system)>,\n",
    "        FM-AM=<scheduling, asset-management, job-management, field-management, field-operations; R_system; B(new, system)>,\n",
    "        Billing=<billing; R_system; B(new, system)>\n",
    "    ; R_applications; B(applications)}\n",
    "\"\"\")\n",
    "\n",
    "# draw_hn(new_applications_hn, fname=pictures_dir+\"new-applications-hn\", view=False, show_hstype=False, show_vertex=False)\n",
    "# Image(filename=pictures_dir+\"new-applications-hn.png\", width=800, height=1200)"
   ]
  },
  {
   "cell_type": "code",
   "execution_count": 8,
   "id": "8dc5efce-039d-4dd7-90d2-c4b19e7dd9fa",
   "metadata": {},
   "outputs": [
    {
     "data": {
      "text/plain": [
       "<hypernetworks.core.Hypernetwork.Hypernetwork at 0x11905d6d0>"
      ]
     },
     "execution_count": 8,
     "metadata": {},
     "output_type": "execute_result"
    }
   ],
   "source": [
    "hn = Hypernetwork()\n",
    "\n",
    "hn.copy(old_applications_hn)\n",
    "hn.merge(new_applications_hn)\n",
    "\n",
    "# draw_hn(hn, fname=pictures_dir+\"new-old-applications-hn\", view=False, show_hstype=False, show_vertex=False)\n",
    "# Image(filename=pictures_dir+\"new-old-applications-hn.png\", width=1500, height=1200)"
   ]
  },
  {
   "cell_type": "code",
   "execution_count": 9,
   "id": "dd735826-b4f2-4fde-aa12-0aa3cd8a9b43",
   "metadata": {
    "jupyter": {
     "source_hidden": true
    }
   },
   "outputs": [],
   "source": [
    "def satisfied_by(hn, value):\n",
    "    if value not in hn.hypernetwork:\n",
    "        print(value, \"not found.\")\n",
    "        return None\n",
    "\n",
    "    print(value, \"is satisfiled by these applications:\")\n",
    "    \n",
    "    for part in hn.hypernetwork[value].partOf:\n",
    "        print(\"\\t\", part, \"in boundaries:\", \", \".join(hn.hypernetwork[part].B))"
   ]
  },
  {
   "cell_type": "code",
   "execution_count": 10,
   "id": "486daa3e-9637-4454-a483-2d2c7ab374ff",
   "metadata": {
    "jupyter": {
     "source_hidden": true
    }
   },
   "outputs": [
    {
     "name": "stdout",
     "output_type": "stream",
     "text": [
      "scheduling is satisfiled by these applications:\n",
      "\t Sched in boundaries: old, system\n",
      "\t FM-AM in boundaries: new, system\n",
      "\n",
      "job-booking is satisfiled by these applications:\n",
      "\t JB in boundaries: old, system\n",
      "\t CRM in boundaries: new, system\n"
     ]
    }
   ],
   "source": [
    "satisfied_by(hn, \"scheduling\")\n",
    "print()\n",
    "satisfied_by(hn, \"job-booking\")"
   ]
  },
  {
   "cell_type": "code",
   "execution_count": 11,
   "id": "58aeec75-0761-4180-adcd-e6afc1111aed",
   "metadata": {},
   "outputs": [
    {
     "name": "stdout",
     "output_type": "stream",
     "text": [
      "{'old', 'new', 'capability-flows', 'system', 'applications'}\n"
     ]
    }
   ],
   "source": [
    "hn.merge(capability_flow_hn)\n",
    "\n",
    "print(hn.get_boundaries())\n",
    "\n",
    "# draw_hn(hn, fname=pictures_dir+\"new-old-applications-flow-hn\", view=False, show_hstype=False, show_vertex=False, direction=\"LR\")\n",
    "# Image(filename=pictures_dir+\"new-old-applications-flow-hn.png\", width=1000, height=1200)"
   ]
  },
  {
   "cell_type": "code",
   "execution_count": 12,
   "id": "9e0d8f5b-ab6b-48e4-a514-c2d255bcf3ea",
   "metadata": {},
   "outputs": [
    {
     "name": "stdout",
     "output_type": "stream",
     "text": [
      "scheduling is satisfiled by these applications:\n",
      "\t Sched in boundaries: old, system\n",
      "\t FM-AM in boundaries: new, system\n",
      "\t job-booking-scheduling in boundaries: capability-flows\n"
     ]
    }
   ],
   "source": [
    "satisfied_by(hn, \"scheduling\")"
   ]
  },
  {
   "cell_type": "code",
   "execution_count": null,
   "id": "0f364220-6e45-491c-8a23-90ff8578980c",
   "metadata": {},
   "outputs": [],
   "source": []
  },
  {
   "cell_type": "code",
   "execution_count": 17,
   "id": "e43ab72a-f041-401f-bbfe-cc1ef681c8d3",
   "metadata": {
    "scrolled": true
   },
   "outputs": [
    {
     "name": "stdout",
     "output_type": "stream",
     "text": [
      "job-management=<dispatch, deprogram; R_capability; B(capabilities)>^N\n",
      "job-management=<dispatch, deprogram; R_capability; B(capabilities)>^N\n",
      "{'old', 'external', 'capability-flows', 'system', 'applications', 'capabilities'}\n",
      "{'external', 'capability-flows'}\n"
     ]
    }
   ],
   "source": [
    "old_Hn = Hypernetwork()\n",
    "\n",
    "old_Hn.copy(business_objects_hn)\n",
    "old_Hn.merge(capabilities_hn)\n",
    "old_Hn.merge(capability_flow_hn)\n",
    "\n",
    "print(old_Hn.hypernetwork[\"job-management\"])\n",
    "old_Hn.merge(old_applications_hn)\n",
    "print(old_Hn.hypernetwork[\"job-management\"])\n",
    "\n",
    "print(old_Hn.get_boundaries())\n",
    "print(old_Hn.hypernetwork[\"customer\"].B)\n",
    "\n",
    "# draw_hn(old_Hn, fname=pictures_dir+\"old-system-flows-hn\", view=False, show_hstype=False, direction=\"LR\")\n",
    "# Image(filename=pictures_dir+\"old-system-flows-hn.png\", width=1000, height=1200)"
   ]
  },
  {
   "cell_type": "code",
   "execution_count": 14,
   "id": "d2b58aae-58b8-4079-9e04-c32798ba2f16",
   "metadata": {
    "scrolled": true
   },
   "outputs": [
    {
     "name": "stdout",
     "output_type": "stream",
     "text": [
      "{'new', 'external', 'capability-flows', 'system', 'applications', 'capabilities'}\n"
     ]
    }
   ],
   "source": [
    "new_Hn = Hypernetwork()\n",
    "\n",
    "new_Hn.copy(business_objects_hn)\n",
    "new_Hn.merge(capabilities_hn)\n",
    "new_Hn.merge(capability_flow_hn)\n",
    "new_Hn.merge(new_applications_hn)\n",
    "\n",
    "print(new_Hn.get_boundaries())\n",
    "\n",
    "# draw_hn(new_Hn, fname=pictures_dir+\"new-system-flows-hn\", view=False, show_hstype=False, direction=\"LR\")\n",
    "# Image(filename=pictures_dir+\"new-system-flows-hn.png\", width=1000, height=1200)"
   ]
  },
  {
   "cell_type": "code",
   "execution_count": 15,
   "id": "d292bdc3-2c9f-4bc2-ac45-042416571b52",
   "metadata": {},
   "outputs": [],
   "source": [
    "from graphviz import Digraph\n",
    "\n",
    "PROTOCOL = 1\n",
    "LABEL = 3\n",
    "\n",
    "def generate_directed_graph(hn, label_pos=1, output_file='output_graph', dir=\"TD\"):\n",
    "    def _hn_to_triples(label_pos=1):\n",
    "        triples = []\n",
    "\n",
    "        for name, hs in hn.hypernetwork.items():\n",
    "            label = \"\"\n",
    "\n",
    "            if hs.hstype not in [VERTEX]:\n",
    "                if \"flow\" == hs.R.name:\n",
    "                    start = end = None\n",
    "\n",
    "                    for v in hs.simplex:\n",
    "                        for p in hn.hypernetwork[v].partOf:\n",
    "                            if \"system\" in hn.hypernetwork[p].B:\n",
    "                                if start == None:\n",
    "                                    start = hn.hypernetwork[p].vertex\n",
    "                                \n",
    "                                elif end == None:\n",
    "                                    end = hn.hypernetwork[p].vertex\n",
    "\n",
    "                        if \"external\" in hn.hypernetwork[v].B:\n",
    "                            if start == None:\n",
    "                                start = v\n",
    "                            \n",
    "                            elif end == None:\n",
    "                                end = v\n",
    "\n",
    "                    if hn.hypernetwork[hs.simplex[1]].hstype in [ALPHA]:\n",
    "                        label = \", \".join(hn.hypernetwork[hs.simplex[1]].simplex)\n",
    "\n",
    "                    else:\n",
    "                        label = hs.simplex[1]\n",
    "                        \n",
    "                    triples.append((start, label, end, hs.R.name))\n",
    "                    \n",
    "        return triples\n",
    "        \n",
    "    dot = Digraph(engine=\"dot\", graph_attr={\"rankdir\":dir})\n",
    "    triples = _hn_to_triples(label_pos)\n",
    "\n",
    "    dot.attr('node', shape='circle', fixedsize='true', width='1', height='1')\n",
    "\n",
    "    for start_node, label, end_node, R in triples:\n",
    "        start_label = start_node.replace(\"-\", \"<br/>\")\n",
    "        end_label = end_node.replace(\"-\", \"<br/>\")\n",
    "\n",
    "        wrapped_start_node = f'<<table border=\"0\" cellpadding=\"3\"><tr><td>{start_label}</td></tr></table>>'\n",
    "        wrapped_end_node = f'<<table border=\"0\" cellpadding=\"3\"><tr><td>{end_label}</td></tr></table>>'\n",
    "\n",
    "        dot.node(start_node, label=wrapped_start_node)\n",
    "        dot.node(end_node, label=wrapped_end_node)\n",
    "        dot.edge(start_node, end_node, label=label)  # Add edge with label\n",
    "        \n",
    "    dot.render(output_file, format='png', cleanup=True)"
   ]
  },
  {
   "cell_type": "code",
   "execution_count": 16,
   "id": "44bca4d9-a28a-4ded-a553-5a8fbe0424d9",
   "metadata": {},
   "outputs": [
    {
     "name": "stdout",
     "output_type": "stream",
     "text": [
      "job-management=<dispatch, deprogram; R_capability; B(capabilities)>^N\n"
     ]
    },
    {
     "ename": "AttributeError",
     "evalue": "'NoneType' object has no attribute 'replace'",
     "output_type": "error",
     "traceback": [
      "\u001b[0;31m---------------------------------------------------------------------------\u001b[0m",
      "\u001b[0;31mAttributeError\u001b[0m                            Traceback (most recent call last)",
      "Cell \u001b[0;32mIn[16], line 2\u001b[0m\n\u001b[1;32m      1\u001b[0m \u001b[38;5;28mprint\u001b[39m(old_Hn\u001b[38;5;241m.\u001b[39mhypernetwork[\u001b[38;5;124m\"\u001b[39m\u001b[38;5;124mjob-management\u001b[39m\u001b[38;5;124m\"\u001b[39m])\n\u001b[0;32m----> 2\u001b[0m \u001b[43mgenerate_directed_graph\u001b[49m\u001b[43m(\u001b[49m\u001b[43mold_Hn\u001b[49m\u001b[43m,\u001b[49m\u001b[43m \u001b[49m\u001b[43mLABEL\u001b[49m\u001b[43m,\u001b[49m\u001b[43m \u001b[49m\u001b[43mpictures_dir\u001b[49m\u001b[38;5;241;43m+\u001b[39;49m\u001b[38;5;124;43m\"\u001b[39;49m\u001b[38;5;124;43mold-systems\u001b[39;49m\u001b[38;5;124;43m\"\u001b[39;49m\u001b[43m)\u001b[49m\n\u001b[1;32m      3\u001b[0m Image(filename\u001b[38;5;241m=\u001b[39mpictures_dir\u001b[38;5;241m+\u001b[39m\u001b[38;5;124m\"\u001b[39m\u001b[38;5;124mold-systems.png\u001b[39m\u001b[38;5;124m\"\u001b[39m, width\u001b[38;5;241m=\u001b[39m\u001b[38;5;241m600\u001b[39m)\n",
      "Cell \u001b[0;32mIn[15], line 50\u001b[0m, in \u001b[0;36mgenerate_directed_graph\u001b[0;34m(hn, label_pos, output_file, dir)\u001b[0m\n\u001b[1;32m     48\u001b[0m \u001b[38;5;28;01mfor\u001b[39;00m start_node, label, end_node, R \u001b[38;5;129;01min\u001b[39;00m triples:\n\u001b[1;32m     49\u001b[0m     start_label \u001b[38;5;241m=\u001b[39m start_node\u001b[38;5;241m.\u001b[39mreplace(\u001b[38;5;124m\"\u001b[39m\u001b[38;5;124m-\u001b[39m\u001b[38;5;124m\"\u001b[39m, \u001b[38;5;124m\"\u001b[39m\u001b[38;5;124m<br/>\u001b[39m\u001b[38;5;124m\"\u001b[39m)\n\u001b[0;32m---> 50\u001b[0m     end_label \u001b[38;5;241m=\u001b[39m \u001b[43mend_node\u001b[49m\u001b[38;5;241;43m.\u001b[39;49m\u001b[43mreplace\u001b[49m(\u001b[38;5;124m\"\u001b[39m\u001b[38;5;124m-\u001b[39m\u001b[38;5;124m\"\u001b[39m, \u001b[38;5;124m\"\u001b[39m\u001b[38;5;124m<br/>\u001b[39m\u001b[38;5;124m\"\u001b[39m)\n\u001b[1;32m     52\u001b[0m     wrapped_start_node \u001b[38;5;241m=\u001b[39m \u001b[38;5;124mf\u001b[39m\u001b[38;5;124m'\u001b[39m\u001b[38;5;124m<<table border=\u001b[39m\u001b[38;5;124m\"\u001b[39m\u001b[38;5;124m0\u001b[39m\u001b[38;5;124m\"\u001b[39m\u001b[38;5;124m cellpadding=\u001b[39m\u001b[38;5;124m\"\u001b[39m\u001b[38;5;124m3\u001b[39m\u001b[38;5;124m\"\u001b[39m\u001b[38;5;124m><tr><td>\u001b[39m\u001b[38;5;132;01m{\u001b[39;00mstart_label\u001b[38;5;132;01m}\u001b[39;00m\u001b[38;5;124m</td></tr></table>>\u001b[39m\u001b[38;5;124m'\u001b[39m\n\u001b[1;32m     53\u001b[0m     wrapped_end_node \u001b[38;5;241m=\u001b[39m \u001b[38;5;124mf\u001b[39m\u001b[38;5;124m'\u001b[39m\u001b[38;5;124m<<table border=\u001b[39m\u001b[38;5;124m\"\u001b[39m\u001b[38;5;124m0\u001b[39m\u001b[38;5;124m\"\u001b[39m\u001b[38;5;124m cellpadding=\u001b[39m\u001b[38;5;124m\"\u001b[39m\u001b[38;5;124m3\u001b[39m\u001b[38;5;124m\"\u001b[39m\u001b[38;5;124m><tr><td>\u001b[39m\u001b[38;5;132;01m{\u001b[39;00mend_label\u001b[38;5;132;01m}\u001b[39;00m\u001b[38;5;124m</td></tr></table>>\u001b[39m\u001b[38;5;124m'\u001b[39m\n",
      "\u001b[0;31mAttributeError\u001b[0m: 'NoneType' object has no attribute 'replace'"
     ]
    }
   ],
   "source": [
    "print(old_Hn.hypernetwork[\"job-management\"])\n",
    "generate_directed_graph(old_Hn, LABEL, pictures_dir+\"old-systems\")\n",
    "Image(filename=pictures_dir+\"old-systems.png\", width=600)"
   ]
  },
  {
   "cell_type": "code",
   "execution_count": null,
   "id": "e8261973-0a6b-4db9-ac32-2021118ce5ce",
   "metadata": {},
   "outputs": [],
   "source": [
    "generate_directed_graph(new_Hn, LABEL, pictures_dir+\"new-systems\")\n",
    "Image(filename=pictures_dir+\"new-systems.png\", width=600)"
   ]
  },
  {
   "cell_type": "code",
   "execution_count": null,
   "id": "0d140efe-6fed-485c-9ddb-e96bee206106",
   "metadata": {},
   "outputs": [],
   "source": []
  }
 ],
 "metadata": {
  "kernelspec": {
   "display_name": "Python 3 (ipykernel)",
   "language": "python",
   "name": "python3"
  },
  "language_info": {
   "codemirror_mode": {
    "name": "ipython",
    "version": 3
   },
   "file_extension": ".py",
   "mimetype": "text/x-python",
   "name": "python",
   "nbconvert_exporter": "python",
   "pygments_lexer": "ipython3",
   "version": "3.11.7"
  }
 },
 "nbformat": 4,
 "nbformat_minor": 5
}
